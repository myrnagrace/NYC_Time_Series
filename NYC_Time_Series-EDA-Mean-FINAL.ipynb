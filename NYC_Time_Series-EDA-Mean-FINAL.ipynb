{
 "cells": [
  {
   "cell_type": "markdown",
   "metadata": {},
   "source": [
    "# New York City Real Estate Time Series Analysis"
   ]
  },
  {
   "cell_type": "markdown",
   "metadata": {},
   "source": [
    "## Business Problem\n",
    "\n",
    "New York City is known to be the most exciting city to live in for its diversity, culture, and opportunity. Since NYC is a metro for apartment rentals, our goal as a real estate agency is to find areas in NYC that has potential for investing in.\n",
    "\n",
    "Our main questions to answer will be:\n",
    "\n",
    "- Which zip codes will bring profit in the future?\n",
    "\n",
    "- What codes based on our data has the highest ROI and will it continue to generate profit?\n",
    "\n",
    "## Business Value\n",
    "\n",
    "Why is this information important for our client? We are looking to determine which zip codes holds future value based on prior historical information provided by Zillow's [Data](https://www.zillow.com/research/data/). The outcome is provide home value analysis for aspiring landlords, home owners and property investers on which areas in NYC that will bring the best return on investment."
   ]
  },
  {
   "cell_type": "markdown",
   "metadata": {},
   "source": [
    "# Load the Data/Filtering for Chosen Zipcodes\n",
    "\n",
    "Here we will filter out our dataframe to only New York City."
   ]
  },
  {
   "cell_type": "code",
   "execution_count": 1,
   "metadata": {},
   "outputs": [],
   "source": [
    "import pandas as pd\n",
    "import pandas.tseries\n",
    "import statsmodels.api as sm\n",
    "import matplotlib.pyplot as plt\n",
    "import matplotlib as matplotlib\n",
    "import seaborn as sns\n",
    "import statsmodels.api as sm\n",
    "\n",
    "# Dickey Fuller Test\n",
    "from statsmodels.tsa.stattools import adfuller\n",
    "# Auto Correlation\n",
    "from statsmodels.graphics.tsaplots import plot_pacf,plot_acf\n",
    "# Decomposition\n",
    "from statsmodels.tsa.seasonal import seasonal_decompose\n",
    "# AR Autoregressive\n",
    "from sklearn.model_selection import TimeSeriesSplit\n",
    "from sklearn.metrics import mean_squared_error\n",
    "from statsmodels.tsa.arima.model import ARIMA\n",
    "from statsmodels.tsa.statespace.sarimax import SARIMAX\n",
    "import itertools\n",
    "import warnings\n",
    "\n",
    "import pmdarima as pm\n",
    "from pmdarima import model_selection\n",
    "from pmdarima.utils import decomposed_plot\n",
    "from pmdarima.arima import decompose\n",
    "from pmdarima.arima.stationarity import ADFTest\n",
    "from pmdarima.model_selection import train_test_split\n",
    "\n",
    "from help_functions import *\n",
    "\n",
    "warnings.filterwarnings('ignore')"
   ]
  },
  {
   "cell_type": "code",
   "execution_count": 2,
   "metadata": {},
   "outputs": [
    {
     "data": {
      "text/html": [
       "<div>\n",
       "<style scoped>\n",
       "    .dataframe tbody tr th:only-of-type {\n",
       "        vertical-align: middle;\n",
       "    }\n",
       "\n",
       "    .dataframe tbody tr th {\n",
       "        vertical-align: top;\n",
       "    }\n",
       "\n",
       "    .dataframe thead th {\n",
       "        text-align: right;\n",
       "    }\n",
       "</style>\n",
       "<table border=\"1\" class=\"dataframe\">\n",
       "  <thead>\n",
       "    <tr style=\"text-align: right;\">\n",
       "      <th></th>\n",
       "      <th>RegionID</th>\n",
       "      <th>RegionName</th>\n",
       "      <th>City</th>\n",
       "      <th>State</th>\n",
       "      <th>Metro</th>\n",
       "      <th>CountyName</th>\n",
       "      <th>SizeRank</th>\n",
       "      <th>1996-04</th>\n",
       "      <th>1996-05</th>\n",
       "      <th>1996-06</th>\n",
       "      <th>...</th>\n",
       "      <th>2017-07</th>\n",
       "      <th>2017-08</th>\n",
       "      <th>2017-09</th>\n",
       "      <th>2017-10</th>\n",
       "      <th>2017-11</th>\n",
       "      <th>2017-12</th>\n",
       "      <th>2018-01</th>\n",
       "      <th>2018-02</th>\n",
       "      <th>2018-03</th>\n",
       "      <th>2018-04</th>\n",
       "    </tr>\n",
       "  </thead>\n",
       "  <tbody>\n",
       "    <tr>\n",
       "      <th>0</th>\n",
       "      <td>84654</td>\n",
       "      <td>60657</td>\n",
       "      <td>Chicago</td>\n",
       "      <td>IL</td>\n",
       "      <td>Chicago</td>\n",
       "      <td>Cook</td>\n",
       "      <td>1</td>\n",
       "      <td>334200.0</td>\n",
       "      <td>335400.0</td>\n",
       "      <td>336500.0</td>\n",
       "      <td>...</td>\n",
       "      <td>1005500</td>\n",
       "      <td>1007500</td>\n",
       "      <td>1007800</td>\n",
       "      <td>1009600</td>\n",
       "      <td>1013300</td>\n",
       "      <td>1018700</td>\n",
       "      <td>1024400</td>\n",
       "      <td>1030700</td>\n",
       "      <td>1033800</td>\n",
       "      <td>1030600</td>\n",
       "    </tr>\n",
       "    <tr>\n",
       "      <th>1</th>\n",
       "      <td>90668</td>\n",
       "      <td>75070</td>\n",
       "      <td>McKinney</td>\n",
       "      <td>TX</td>\n",
       "      <td>Dallas-Fort Worth</td>\n",
       "      <td>Collin</td>\n",
       "      <td>2</td>\n",
       "      <td>235700.0</td>\n",
       "      <td>236900.0</td>\n",
       "      <td>236700.0</td>\n",
       "      <td>...</td>\n",
       "      <td>308000</td>\n",
       "      <td>310000</td>\n",
       "      <td>312500</td>\n",
       "      <td>314100</td>\n",
       "      <td>315000</td>\n",
       "      <td>316600</td>\n",
       "      <td>318100</td>\n",
       "      <td>319600</td>\n",
       "      <td>321100</td>\n",
       "      <td>321800</td>\n",
       "    </tr>\n",
       "    <tr>\n",
       "      <th>2</th>\n",
       "      <td>91982</td>\n",
       "      <td>77494</td>\n",
       "      <td>Katy</td>\n",
       "      <td>TX</td>\n",
       "      <td>Houston</td>\n",
       "      <td>Harris</td>\n",
       "      <td>3</td>\n",
       "      <td>210400.0</td>\n",
       "      <td>212200.0</td>\n",
       "      <td>212200.0</td>\n",
       "      <td>...</td>\n",
       "      <td>321000</td>\n",
       "      <td>320600</td>\n",
       "      <td>320200</td>\n",
       "      <td>320400</td>\n",
       "      <td>320800</td>\n",
       "      <td>321200</td>\n",
       "      <td>321200</td>\n",
       "      <td>323000</td>\n",
       "      <td>326900</td>\n",
       "      <td>329900</td>\n",
       "    </tr>\n",
       "    <tr>\n",
       "      <th>3</th>\n",
       "      <td>84616</td>\n",
       "      <td>60614</td>\n",
       "      <td>Chicago</td>\n",
       "      <td>IL</td>\n",
       "      <td>Chicago</td>\n",
       "      <td>Cook</td>\n",
       "      <td>4</td>\n",
       "      <td>498100.0</td>\n",
       "      <td>500900.0</td>\n",
       "      <td>503100.0</td>\n",
       "      <td>...</td>\n",
       "      <td>1289800</td>\n",
       "      <td>1287700</td>\n",
       "      <td>1287400</td>\n",
       "      <td>1291500</td>\n",
       "      <td>1296600</td>\n",
       "      <td>1299000</td>\n",
       "      <td>1302700</td>\n",
       "      <td>1306400</td>\n",
       "      <td>1308500</td>\n",
       "      <td>1307000</td>\n",
       "    </tr>\n",
       "    <tr>\n",
       "      <th>4</th>\n",
       "      <td>93144</td>\n",
       "      <td>79936</td>\n",
       "      <td>El Paso</td>\n",
       "      <td>TX</td>\n",
       "      <td>El Paso</td>\n",
       "      <td>El Paso</td>\n",
       "      <td>5</td>\n",
       "      <td>77300.0</td>\n",
       "      <td>77300.0</td>\n",
       "      <td>77300.0</td>\n",
       "      <td>...</td>\n",
       "      <td>119100</td>\n",
       "      <td>119400</td>\n",
       "      <td>120000</td>\n",
       "      <td>120300</td>\n",
       "      <td>120300</td>\n",
       "      <td>120300</td>\n",
       "      <td>120300</td>\n",
       "      <td>120500</td>\n",
       "      <td>121000</td>\n",
       "      <td>121500</td>\n",
       "    </tr>\n",
       "    <tr>\n",
       "      <th>...</th>\n",
       "      <td>...</td>\n",
       "      <td>...</td>\n",
       "      <td>...</td>\n",
       "      <td>...</td>\n",
       "      <td>...</td>\n",
       "      <td>...</td>\n",
       "      <td>...</td>\n",
       "      <td>...</td>\n",
       "      <td>...</td>\n",
       "      <td>...</td>\n",
       "      <td>...</td>\n",
       "      <td>...</td>\n",
       "      <td>...</td>\n",
       "      <td>...</td>\n",
       "      <td>...</td>\n",
       "      <td>...</td>\n",
       "      <td>...</td>\n",
       "      <td>...</td>\n",
       "      <td>...</td>\n",
       "      <td>...</td>\n",
       "      <td>...</td>\n",
       "    </tr>\n",
       "    <tr>\n",
       "      <th>14718</th>\n",
       "      <td>58333</td>\n",
       "      <td>1338</td>\n",
       "      <td>Ashfield</td>\n",
       "      <td>MA</td>\n",
       "      <td>Greenfield Town</td>\n",
       "      <td>Franklin</td>\n",
       "      <td>14719</td>\n",
       "      <td>94600.0</td>\n",
       "      <td>94300.0</td>\n",
       "      <td>94000.0</td>\n",
       "      <td>...</td>\n",
       "      <td>216800</td>\n",
       "      <td>217700</td>\n",
       "      <td>218600</td>\n",
       "      <td>218500</td>\n",
       "      <td>218100</td>\n",
       "      <td>216400</td>\n",
       "      <td>213100</td>\n",
       "      <td>209800</td>\n",
       "      <td>209200</td>\n",
       "      <td>209300</td>\n",
       "    </tr>\n",
       "    <tr>\n",
       "      <th>14719</th>\n",
       "      <td>59107</td>\n",
       "      <td>3293</td>\n",
       "      <td>Woodstock</td>\n",
       "      <td>NH</td>\n",
       "      <td>Claremont</td>\n",
       "      <td>Grafton</td>\n",
       "      <td>14720</td>\n",
       "      <td>92700.0</td>\n",
       "      <td>92500.0</td>\n",
       "      <td>92400.0</td>\n",
       "      <td>...</td>\n",
       "      <td>202100</td>\n",
       "      <td>208400</td>\n",
       "      <td>212200</td>\n",
       "      <td>215200</td>\n",
       "      <td>214300</td>\n",
       "      <td>213100</td>\n",
       "      <td>213700</td>\n",
       "      <td>218300</td>\n",
       "      <td>222700</td>\n",
       "      <td>225800</td>\n",
       "    </tr>\n",
       "    <tr>\n",
       "      <th>14720</th>\n",
       "      <td>75672</td>\n",
       "      <td>40404</td>\n",
       "      <td>Berea</td>\n",
       "      <td>KY</td>\n",
       "      <td>Richmond</td>\n",
       "      <td>Madison</td>\n",
       "      <td>14721</td>\n",
       "      <td>57100.0</td>\n",
       "      <td>57300.0</td>\n",
       "      <td>57500.0</td>\n",
       "      <td>...</td>\n",
       "      <td>121800</td>\n",
       "      <td>122800</td>\n",
       "      <td>124600</td>\n",
       "      <td>126700</td>\n",
       "      <td>128800</td>\n",
       "      <td>130600</td>\n",
       "      <td>131700</td>\n",
       "      <td>132500</td>\n",
       "      <td>133000</td>\n",
       "      <td>133400</td>\n",
       "    </tr>\n",
       "    <tr>\n",
       "      <th>14721</th>\n",
       "      <td>93733</td>\n",
       "      <td>81225</td>\n",
       "      <td>Mount Crested Butte</td>\n",
       "      <td>CO</td>\n",
       "      <td>NaN</td>\n",
       "      <td>Gunnison</td>\n",
       "      <td>14722</td>\n",
       "      <td>191100.0</td>\n",
       "      <td>192400.0</td>\n",
       "      <td>193700.0</td>\n",
       "      <td>...</td>\n",
       "      <td>662800</td>\n",
       "      <td>671200</td>\n",
       "      <td>682400</td>\n",
       "      <td>695600</td>\n",
       "      <td>695500</td>\n",
       "      <td>694700</td>\n",
       "      <td>706400</td>\n",
       "      <td>705300</td>\n",
       "      <td>681500</td>\n",
       "      <td>664400</td>\n",
       "    </tr>\n",
       "    <tr>\n",
       "      <th>14722</th>\n",
       "      <td>95851</td>\n",
       "      <td>89155</td>\n",
       "      <td>Mesquite</td>\n",
       "      <td>NV</td>\n",
       "      <td>Las Vegas</td>\n",
       "      <td>Clark</td>\n",
       "      <td>14723</td>\n",
       "      <td>176400.0</td>\n",
       "      <td>176300.0</td>\n",
       "      <td>176100.0</td>\n",
       "      <td>...</td>\n",
       "      <td>333800</td>\n",
       "      <td>336400</td>\n",
       "      <td>339700</td>\n",
       "      <td>343800</td>\n",
       "      <td>346800</td>\n",
       "      <td>348900</td>\n",
       "      <td>350400</td>\n",
       "      <td>353000</td>\n",
       "      <td>356000</td>\n",
       "      <td>357200</td>\n",
       "    </tr>\n",
       "  </tbody>\n",
       "</table>\n",
       "<p>14723 rows × 272 columns</p>\n",
       "</div>"
      ],
      "text/plain": [
       "       RegionID  RegionName                 City State              Metro  \\\n",
       "0         84654       60657              Chicago    IL            Chicago   \n",
       "1         90668       75070             McKinney    TX  Dallas-Fort Worth   \n",
       "2         91982       77494                 Katy    TX            Houston   \n",
       "3         84616       60614              Chicago    IL            Chicago   \n",
       "4         93144       79936              El Paso    TX            El Paso   \n",
       "...         ...         ...                  ...   ...                ...   \n",
       "14718     58333        1338             Ashfield    MA    Greenfield Town   \n",
       "14719     59107        3293            Woodstock    NH          Claremont   \n",
       "14720     75672       40404                Berea    KY           Richmond   \n",
       "14721     93733       81225  Mount Crested Butte    CO                NaN   \n",
       "14722     95851       89155             Mesquite    NV          Las Vegas   \n",
       "\n",
       "      CountyName  SizeRank   1996-04   1996-05   1996-06  ...  2017-07  \\\n",
       "0           Cook         1  334200.0  335400.0  336500.0  ...  1005500   \n",
       "1         Collin         2  235700.0  236900.0  236700.0  ...   308000   \n",
       "2         Harris         3  210400.0  212200.0  212200.0  ...   321000   \n",
       "3           Cook         4  498100.0  500900.0  503100.0  ...  1289800   \n",
       "4        El Paso         5   77300.0   77300.0   77300.0  ...   119100   \n",
       "...          ...       ...       ...       ...       ...  ...      ...   \n",
       "14718   Franklin     14719   94600.0   94300.0   94000.0  ...   216800   \n",
       "14719    Grafton     14720   92700.0   92500.0   92400.0  ...   202100   \n",
       "14720    Madison     14721   57100.0   57300.0   57500.0  ...   121800   \n",
       "14721   Gunnison     14722  191100.0  192400.0  193700.0  ...   662800   \n",
       "14722      Clark     14723  176400.0  176300.0  176100.0  ...   333800   \n",
       "\n",
       "       2017-08  2017-09  2017-10  2017-11  2017-12  2018-01  2018-02  2018-03  \\\n",
       "0      1007500  1007800  1009600  1013300  1018700  1024400  1030700  1033800   \n",
       "1       310000   312500   314100   315000   316600   318100   319600   321100   \n",
       "2       320600   320200   320400   320800   321200   321200   323000   326900   \n",
       "3      1287700  1287400  1291500  1296600  1299000  1302700  1306400  1308500   \n",
       "4       119400   120000   120300   120300   120300   120300   120500   121000   \n",
       "...        ...      ...      ...      ...      ...      ...      ...      ...   \n",
       "14718   217700   218600   218500   218100   216400   213100   209800   209200   \n",
       "14719   208400   212200   215200   214300   213100   213700   218300   222700   \n",
       "14720   122800   124600   126700   128800   130600   131700   132500   133000   \n",
       "14721   671200   682400   695600   695500   694700   706400   705300   681500   \n",
       "14722   336400   339700   343800   346800   348900   350400   353000   356000   \n",
       "\n",
       "       2018-04  \n",
       "0      1030600  \n",
       "1       321800  \n",
       "2       329900  \n",
       "3      1307000  \n",
       "4       121500  \n",
       "...        ...  \n",
       "14718   209300  \n",
       "14719   225800  \n",
       "14720   133400  \n",
       "14721   664400  \n",
       "14722   357200  \n",
       "\n",
       "[14723 rows x 272 columns]"
      ]
     },
     "execution_count": 2,
     "metadata": {},
     "output_type": "execute_result"
    }
   ],
   "source": [
    "# load the dataset\n",
    "df = pd.read_csv('zillow_data.csv')\n",
    "df"
   ]
  },
  {
   "cell_type": "code",
   "execution_count": 3,
   "metadata": {},
   "outputs": [
    {
     "data": {
      "text/html": [
       "<div>\n",
       "<style scoped>\n",
       "    .dataframe tbody tr th:only-of-type {\n",
       "        vertical-align: middle;\n",
       "    }\n",
       "\n",
       "    .dataframe tbody tr th {\n",
       "        vertical-align: top;\n",
       "    }\n",
       "\n",
       "    .dataframe thead th {\n",
       "        text-align: right;\n",
       "    }\n",
       "</style>\n",
       "<table border=\"1\" class=\"dataframe\">\n",
       "  <thead>\n",
       "    <tr style=\"text-align: right;\">\n",
       "      <th></th>\n",
       "      <th>RegionID</th>\n",
       "      <th>RegionName</th>\n",
       "      <th>City</th>\n",
       "      <th>State</th>\n",
       "      <th>Metro</th>\n",
       "      <th>CountyName</th>\n",
       "      <th>SizeRank</th>\n",
       "      <th>1996-04</th>\n",
       "      <th>1996-05</th>\n",
       "      <th>1996-06</th>\n",
       "      <th>...</th>\n",
       "      <th>2017-07</th>\n",
       "      <th>2017-08</th>\n",
       "      <th>2017-09</th>\n",
       "      <th>2017-10</th>\n",
       "      <th>2017-11</th>\n",
       "      <th>2017-12</th>\n",
       "      <th>2018-01</th>\n",
       "      <th>2018-02</th>\n",
       "      <th>2018-03</th>\n",
       "      <th>2018-04</th>\n",
       "    </tr>\n",
       "  </thead>\n",
       "  <tbody>\n",
       "    <tr>\n",
       "      <th>6</th>\n",
       "      <td>61807</td>\n",
       "      <td>10467</td>\n",
       "      <td>New York</td>\n",
       "      <td>NY</td>\n",
       "      <td>New York</td>\n",
       "      <td>Bronx</td>\n",
       "      <td>7</td>\n",
       "      <td>152900.0</td>\n",
       "      <td>152700.0</td>\n",
       "      <td>152600.0</td>\n",
       "      <td>...</td>\n",
       "      <td>394400</td>\n",
       "      <td>400000</td>\n",
       "      <td>407300</td>\n",
       "      <td>411600</td>\n",
       "      <td>413200</td>\n",
       "      <td>414300</td>\n",
       "      <td>413900</td>\n",
       "      <td>411400</td>\n",
       "      <td>413200</td>\n",
       "      <td>417900</td>\n",
       "    </tr>\n",
       "    <tr>\n",
       "      <th>10</th>\n",
       "      <td>62037</td>\n",
       "      <td>11226</td>\n",
       "      <td>New York</td>\n",
       "      <td>NY</td>\n",
       "      <td>New York</td>\n",
       "      <td>Kings</td>\n",
       "      <td>11</td>\n",
       "      <td>162000.0</td>\n",
       "      <td>162300.0</td>\n",
       "      <td>162600.0</td>\n",
       "      <td>...</td>\n",
       "      <td>860200</td>\n",
       "      <td>851000</td>\n",
       "      <td>853900</td>\n",
       "      <td>870000</td>\n",
       "      <td>885100</td>\n",
       "      <td>887800</td>\n",
       "      <td>890500</td>\n",
       "      <td>901700</td>\n",
       "      <td>930700</td>\n",
       "      <td>963200</td>\n",
       "    </tr>\n",
       "    <tr>\n",
       "      <th>12</th>\n",
       "      <td>62087</td>\n",
       "      <td>11375</td>\n",
       "      <td>New York</td>\n",
       "      <td>NY</td>\n",
       "      <td>New York</td>\n",
       "      <td>Queens</td>\n",
       "      <td>13</td>\n",
       "      <td>252400.0</td>\n",
       "      <td>251800.0</td>\n",
       "      <td>251400.0</td>\n",
       "      <td>...</td>\n",
       "      <td>1022600</td>\n",
       "      <td>1033700</td>\n",
       "      <td>1048600</td>\n",
       "      <td>1066400</td>\n",
       "      <td>1081200</td>\n",
       "      <td>1088800</td>\n",
       "      <td>1092700</td>\n",
       "      <td>1089500</td>\n",
       "      <td>1084000</td>\n",
       "      <td>1084600</td>\n",
       "    </tr>\n",
       "    <tr>\n",
       "      <th>13</th>\n",
       "      <td>62045</td>\n",
       "      <td>11235</td>\n",
       "      <td>New York</td>\n",
       "      <td>NY</td>\n",
       "      <td>New York</td>\n",
       "      <td>Kings</td>\n",
       "      <td>14</td>\n",
       "      <td>190500.0</td>\n",
       "      <td>191000.0</td>\n",
       "      <td>191500.0</td>\n",
       "      <td>...</td>\n",
       "      <td>767300</td>\n",
       "      <td>777300</td>\n",
       "      <td>788800</td>\n",
       "      <td>793900</td>\n",
       "      <td>796000</td>\n",
       "      <td>799700</td>\n",
       "      <td>806600</td>\n",
       "      <td>810600</td>\n",
       "      <td>813400</td>\n",
       "      <td>816200</td>\n",
       "    </tr>\n",
       "    <tr>\n",
       "      <th>20</th>\n",
       "      <td>61625</td>\n",
       "      <td>10011</td>\n",
       "      <td>New York</td>\n",
       "      <td>NY</td>\n",
       "      <td>New York</td>\n",
       "      <td>New York</td>\n",
       "      <td>21</td>\n",
       "      <td>NaN</td>\n",
       "      <td>NaN</td>\n",
       "      <td>NaN</td>\n",
       "      <td>...</td>\n",
       "      <td>12137600</td>\n",
       "      <td>12112600</td>\n",
       "      <td>12036600</td>\n",
       "      <td>12050100</td>\n",
       "      <td>12016300</td>\n",
       "      <td>11946500</td>\n",
       "      <td>11978100</td>\n",
       "      <td>11849300</td>\n",
       "      <td>11563000</td>\n",
       "      <td>11478300</td>\n",
       "    </tr>\n",
       "    <tr>\n",
       "      <th>...</th>\n",
       "      <td>...</td>\n",
       "      <td>...</td>\n",
       "      <td>...</td>\n",
       "      <td>...</td>\n",
       "      <td>...</td>\n",
       "      <td>...</td>\n",
       "      <td>...</td>\n",
       "      <td>...</td>\n",
       "      <td>...</td>\n",
       "      <td>...</td>\n",
       "      <td>...</td>\n",
       "      <td>...</td>\n",
       "      <td>...</td>\n",
       "      <td>...</td>\n",
       "      <td>...</td>\n",
       "      <td>...</td>\n",
       "      <td>...</td>\n",
       "      <td>...</td>\n",
       "      <td>...</td>\n",
       "      <td>...</td>\n",
       "      <td>...</td>\n",
       "    </tr>\n",
       "    <tr>\n",
       "      <th>8008</th>\n",
       "      <td>62122</td>\n",
       "      <td>11436</td>\n",
       "      <td>New York</td>\n",
       "      <td>NY</td>\n",
       "      <td>New York</td>\n",
       "      <td>Queens</td>\n",
       "      <td>8009</td>\n",
       "      <td>119000.0</td>\n",
       "      <td>119400.0</td>\n",
       "      <td>119900.0</td>\n",
       "      <td>...</td>\n",
       "      <td>383800</td>\n",
       "      <td>382200</td>\n",
       "      <td>381000</td>\n",
       "      <td>382500</td>\n",
       "      <td>385600</td>\n",
       "      <td>387600</td>\n",
       "      <td>388700</td>\n",
       "      <td>390600</td>\n",
       "      <td>395100</td>\n",
       "      <td>400300</td>\n",
       "    </tr>\n",
       "    <tr>\n",
       "      <th>8303</th>\n",
       "      <td>62078</td>\n",
       "      <td>11366</td>\n",
       "      <td>New York</td>\n",
       "      <td>NY</td>\n",
       "      <td>New York</td>\n",
       "      <td>Queens</td>\n",
       "      <td>8304</td>\n",
       "      <td>231800.0</td>\n",
       "      <td>232000.0</td>\n",
       "      <td>232300.0</td>\n",
       "      <td>...</td>\n",
       "      <td>830000</td>\n",
       "      <td>839100</td>\n",
       "      <td>847800</td>\n",
       "      <td>854900</td>\n",
       "      <td>859600</td>\n",
       "      <td>861700</td>\n",
       "      <td>865600</td>\n",
       "      <td>871900</td>\n",
       "      <td>882700</td>\n",
       "      <td>893600</td>\n",
       "    </tr>\n",
       "    <tr>\n",
       "      <th>8387</th>\n",
       "      <td>61783</td>\n",
       "      <td>10307</td>\n",
       "      <td>New York</td>\n",
       "      <td>NY</td>\n",
       "      <td>New York</td>\n",
       "      <td>Richmond</td>\n",
       "      <td>8388</td>\n",
       "      <td>186700.0</td>\n",
       "      <td>186800.0</td>\n",
       "      <td>186900.0</td>\n",
       "      <td>...</td>\n",
       "      <td>522000</td>\n",
       "      <td>525600</td>\n",
       "      <td>527900</td>\n",
       "      <td>533800</td>\n",
       "      <td>543300</td>\n",
       "      <td>550800</td>\n",
       "      <td>559300</td>\n",
       "      <td>566900</td>\n",
       "      <td>571600</td>\n",
       "      <td>575900</td>\n",
       "    </tr>\n",
       "    <tr>\n",
       "      <th>9911</th>\n",
       "      <td>62075</td>\n",
       "      <td>11363</td>\n",
       "      <td>New York</td>\n",
       "      <td>NY</td>\n",
       "      <td>New York</td>\n",
       "      <td>Queens</td>\n",
       "      <td>9912</td>\n",
       "      <td>295000.0</td>\n",
       "      <td>296200.0</td>\n",
       "      <td>297700.0</td>\n",
       "      <td>...</td>\n",
       "      <td>1032000</td>\n",
       "      <td>1043700</td>\n",
       "      <td>1049800</td>\n",
       "      <td>1047900</td>\n",
       "      <td>1041200</td>\n",
       "      <td>1035400</td>\n",
       "      <td>1040700</td>\n",
       "      <td>1048600</td>\n",
       "      <td>1052100</td>\n",
       "      <td>1051300</td>\n",
       "    </tr>\n",
       "    <tr>\n",
       "      <th>11037</th>\n",
       "      <td>61804</td>\n",
       "      <td>10464</td>\n",
       "      <td>New York</td>\n",
       "      <td>NY</td>\n",
       "      <td>New York</td>\n",
       "      <td>Bronx</td>\n",
       "      <td>11038</td>\n",
       "      <td>195900.0</td>\n",
       "      <td>195600.0</td>\n",
       "      <td>195100.0</td>\n",
       "      <td>...</td>\n",
       "      <td>513100</td>\n",
       "      <td>518200</td>\n",
       "      <td>526100</td>\n",
       "      <td>532000</td>\n",
       "      <td>533100</td>\n",
       "      <td>533100</td>\n",
       "      <td>534400</td>\n",
       "      <td>533300</td>\n",
       "      <td>533000</td>\n",
       "      <td>536200</td>\n",
       "    </tr>\n",
       "  </tbody>\n",
       "</table>\n",
       "<p>114 rows × 272 columns</p>\n",
       "</div>"
      ],
      "text/plain": [
       "       RegionID  RegionName      City State     Metro CountyName  SizeRank  \\\n",
       "6         61807       10467  New York    NY  New York      Bronx         7   \n",
       "10        62037       11226  New York    NY  New York      Kings        11   \n",
       "12        62087       11375  New York    NY  New York     Queens        13   \n",
       "13        62045       11235  New York    NY  New York      Kings        14   \n",
       "20        61625       10011  New York    NY  New York   New York        21   \n",
       "...         ...         ...       ...   ...       ...        ...       ...   \n",
       "8008      62122       11436  New York    NY  New York     Queens      8009   \n",
       "8303      62078       11366  New York    NY  New York     Queens      8304   \n",
       "8387      61783       10307  New York    NY  New York   Richmond      8388   \n",
       "9911      62075       11363  New York    NY  New York     Queens      9912   \n",
       "11037     61804       10464  New York    NY  New York      Bronx     11038   \n",
       "\n",
       "        1996-04   1996-05   1996-06  ...   2017-07   2017-08   2017-09  \\\n",
       "6      152900.0  152700.0  152600.0  ...    394400    400000    407300   \n",
       "10     162000.0  162300.0  162600.0  ...    860200    851000    853900   \n",
       "12     252400.0  251800.0  251400.0  ...   1022600   1033700   1048600   \n",
       "13     190500.0  191000.0  191500.0  ...    767300    777300    788800   \n",
       "20          NaN       NaN       NaN  ...  12137600  12112600  12036600   \n",
       "...         ...       ...       ...  ...       ...       ...       ...   \n",
       "8008   119000.0  119400.0  119900.0  ...    383800    382200    381000   \n",
       "8303   231800.0  232000.0  232300.0  ...    830000    839100    847800   \n",
       "8387   186700.0  186800.0  186900.0  ...    522000    525600    527900   \n",
       "9911   295000.0  296200.0  297700.0  ...   1032000   1043700   1049800   \n",
       "11037  195900.0  195600.0  195100.0  ...    513100    518200    526100   \n",
       "\n",
       "        2017-10   2017-11   2017-12   2018-01   2018-02   2018-03   2018-04  \n",
       "6        411600    413200    414300    413900    411400    413200    417900  \n",
       "10       870000    885100    887800    890500    901700    930700    963200  \n",
       "12      1066400   1081200   1088800   1092700   1089500   1084000   1084600  \n",
       "13       793900    796000    799700    806600    810600    813400    816200  \n",
       "20     12050100  12016300  11946500  11978100  11849300  11563000  11478300  \n",
       "...         ...       ...       ...       ...       ...       ...       ...  \n",
       "8008     382500    385600    387600    388700    390600    395100    400300  \n",
       "8303     854900    859600    861700    865600    871900    882700    893600  \n",
       "8387     533800    543300    550800    559300    566900    571600    575900  \n",
       "9911    1047900   1041200   1035400   1040700   1048600   1052100   1051300  \n",
       "11037    532000    533100    533100    534400    533300    533000    536200  \n",
       "\n",
       "[114 rows x 272 columns]"
      ]
     },
     "execution_count": 3,
     "metadata": {},
     "output_type": "execute_result"
    }
   ],
   "source": [
    "# filter city column to New York\n",
    "nyc_df = df[df['City'] == 'New York']\n",
    "nyc_df"
   ]
  },
  {
   "cell_type": "code",
   "execution_count": 4,
   "metadata": {},
   "outputs": [
    {
     "data": {
      "text/plain": [
       "array(['Bronx', 'Kings', 'Queens', 'New York', 'Richmond'], dtype=object)"
      ]
     },
     "execution_count": 4,
     "metadata": {},
     "output_type": "execute_result"
    }
   ],
   "source": [
    "# look at the county names in new york city\n",
    "nyc_df['CountyName'].unique()"
   ]
  },
  {
   "cell_type": "markdown",
   "metadata": {},
   "source": [
    "The counties that we are going to be focused on will be Queens, Kings, Bronx, Richmond and New York. Later on we will change the county name column to boroughs."
   ]
  },
  {
   "cell_type": "markdown",
   "metadata": {},
   "source": [
    "# Data Exploration\n",
    "\n",
    "## Preprocessing"
   ]
  },
  {
   "cell_type": "code",
   "execution_count": 5,
   "metadata": {},
   "outputs": [
    {
     "data": {
      "text/html": [
       "<div>\n",
       "<style scoped>\n",
       "    .dataframe tbody tr th:only-of-type {\n",
       "        vertical-align: middle;\n",
       "    }\n",
       "\n",
       "    .dataframe tbody tr th {\n",
       "        vertical-align: top;\n",
       "    }\n",
       "\n",
       "    .dataframe thead th {\n",
       "        text-align: right;\n",
       "    }\n",
       "</style>\n",
       "<table border=\"1\" class=\"dataframe\">\n",
       "  <thead>\n",
       "    <tr style=\"text-align: right;\">\n",
       "      <th></th>\n",
       "      <th>RegionName</th>\n",
       "      <th>RegionID</th>\n",
       "      <th>SizeRank</th>\n",
       "      <th>City</th>\n",
       "      <th>State</th>\n",
       "      <th>Metro</th>\n",
       "      <th>CountyName</th>\n",
       "      <th>time</th>\n",
       "      <th>value</th>\n",
       "    </tr>\n",
       "  </thead>\n",
       "  <tbody>\n",
       "    <tr>\n",
       "      <th>0</th>\n",
       "      <td>10467</td>\n",
       "      <td>61807</td>\n",
       "      <td>7</td>\n",
       "      <td>New York</td>\n",
       "      <td>NY</td>\n",
       "      <td>New York</td>\n",
       "      <td>Bronx</td>\n",
       "      <td>1996-04-01</td>\n",
       "      <td>152900.0</td>\n",
       "    </tr>\n",
       "    <tr>\n",
       "      <th>1</th>\n",
       "      <td>11226</td>\n",
       "      <td>62037</td>\n",
       "      <td>11</td>\n",
       "      <td>New York</td>\n",
       "      <td>NY</td>\n",
       "      <td>New York</td>\n",
       "      <td>Kings</td>\n",
       "      <td>1996-04-01</td>\n",
       "      <td>162000.0</td>\n",
       "    </tr>\n",
       "    <tr>\n",
       "      <th>2</th>\n",
       "      <td>11375</td>\n",
       "      <td>62087</td>\n",
       "      <td>13</td>\n",
       "      <td>New York</td>\n",
       "      <td>NY</td>\n",
       "      <td>New York</td>\n",
       "      <td>Queens</td>\n",
       "      <td>1996-04-01</td>\n",
       "      <td>252400.0</td>\n",
       "    </tr>\n",
       "    <tr>\n",
       "      <th>3</th>\n",
       "      <td>11235</td>\n",
       "      <td>62045</td>\n",
       "      <td>14</td>\n",
       "      <td>New York</td>\n",
       "      <td>NY</td>\n",
       "      <td>New York</td>\n",
       "      <td>Kings</td>\n",
       "      <td>1996-04-01</td>\n",
       "      <td>190500.0</td>\n",
       "    </tr>\n",
       "    <tr>\n",
       "      <th>5</th>\n",
       "      <td>10128</td>\n",
       "      <td>61703</td>\n",
       "      <td>22</td>\n",
       "      <td>New York</td>\n",
       "      <td>NY</td>\n",
       "      <td>New York</td>\n",
       "      <td>New York</td>\n",
       "      <td>1996-04-01</td>\n",
       "      <td>3676700.0</td>\n",
       "    </tr>\n",
       "    <tr>\n",
       "      <th>...</th>\n",
       "      <td>...</td>\n",
       "      <td>...</td>\n",
       "      <td>...</td>\n",
       "      <td>...</td>\n",
       "      <td>...</td>\n",
       "      <td>...</td>\n",
       "      <td>...</td>\n",
       "      <td>...</td>\n",
       "      <td>...</td>\n",
       "    </tr>\n",
       "    <tr>\n",
       "      <th>30205</th>\n",
       "      <td>11436</td>\n",
       "      <td>62122</td>\n",
       "      <td>8009</td>\n",
       "      <td>New York</td>\n",
       "      <td>NY</td>\n",
       "      <td>New York</td>\n",
       "      <td>Queens</td>\n",
       "      <td>2018-04-01</td>\n",
       "      <td>400300.0</td>\n",
       "    </tr>\n",
       "    <tr>\n",
       "      <th>30206</th>\n",
       "      <td>11366</td>\n",
       "      <td>62078</td>\n",
       "      <td>8304</td>\n",
       "      <td>New York</td>\n",
       "      <td>NY</td>\n",
       "      <td>New York</td>\n",
       "      <td>Queens</td>\n",
       "      <td>2018-04-01</td>\n",
       "      <td>893600.0</td>\n",
       "    </tr>\n",
       "    <tr>\n",
       "      <th>30207</th>\n",
       "      <td>10307</td>\n",
       "      <td>61783</td>\n",
       "      <td>8388</td>\n",
       "      <td>New York</td>\n",
       "      <td>NY</td>\n",
       "      <td>New York</td>\n",
       "      <td>Richmond</td>\n",
       "      <td>2018-04-01</td>\n",
       "      <td>575900.0</td>\n",
       "    </tr>\n",
       "    <tr>\n",
       "      <th>30208</th>\n",
       "      <td>11363</td>\n",
       "      <td>62075</td>\n",
       "      <td>9912</td>\n",
       "      <td>New York</td>\n",
       "      <td>NY</td>\n",
       "      <td>New York</td>\n",
       "      <td>Queens</td>\n",
       "      <td>2018-04-01</td>\n",
       "      <td>1051300.0</td>\n",
       "    </tr>\n",
       "    <tr>\n",
       "      <th>30209</th>\n",
       "      <td>10464</td>\n",
       "      <td>61804</td>\n",
       "      <td>11038</td>\n",
       "      <td>New York</td>\n",
       "      <td>NY</td>\n",
       "      <td>New York</td>\n",
       "      <td>Bronx</td>\n",
       "      <td>2018-04-01</td>\n",
       "      <td>536200.0</td>\n",
       "    </tr>\n",
       "  </tbody>\n",
       "</table>\n",
       "<p>29058 rows × 9 columns</p>\n",
       "</div>"
      ],
      "text/plain": [
       "       RegionName  RegionID  SizeRank      City State     Metro CountyName  \\\n",
       "0           10467     61807         7  New York    NY  New York      Bronx   \n",
       "1           11226     62037        11  New York    NY  New York      Kings   \n",
       "2           11375     62087        13  New York    NY  New York     Queens   \n",
       "3           11235     62045        14  New York    NY  New York      Kings   \n",
       "5           10128     61703        22  New York    NY  New York   New York   \n",
       "...           ...       ...       ...       ...   ...       ...        ...   \n",
       "30205       11436     62122      8009  New York    NY  New York     Queens   \n",
       "30206       11366     62078      8304  New York    NY  New York     Queens   \n",
       "30207       10307     61783      8388  New York    NY  New York   Richmond   \n",
       "30208       11363     62075      9912  New York    NY  New York     Queens   \n",
       "30209       10464     61804     11038  New York    NY  New York      Bronx   \n",
       "\n",
       "            time      value  \n",
       "0     1996-04-01   152900.0  \n",
       "1     1996-04-01   162000.0  \n",
       "2     1996-04-01   252400.0  \n",
       "3     1996-04-01   190500.0  \n",
       "5     1996-04-01  3676700.0  \n",
       "...          ...        ...  \n",
       "30205 2018-04-01   400300.0  \n",
       "30206 2018-04-01   893600.0  \n",
       "30207 2018-04-01   575900.0  \n",
       "30208 2018-04-01  1051300.0  \n",
       "30209 2018-04-01   536200.0  \n",
       "\n",
       "[29058 rows x 9 columns]"
      ]
     },
     "execution_count": 5,
     "metadata": {},
     "output_type": "execute_result"
    }
   ],
   "source": [
    "# melt the data\n",
    "melt_df = melt_data(nyc_df)\n",
    "melt_df"
   ]
  },
  {
   "cell_type": "code",
   "execution_count": 6,
   "metadata": {},
   "outputs": [
    {
     "data": {
      "text/plain": [
       "RegionName    0\n",
       "RegionID      0\n",
       "SizeRank      0\n",
       "City          0\n",
       "State         0\n",
       "Metro         0\n",
       "CountyName    0\n",
       "time          0\n",
       "value         0\n",
       "dtype: int64"
      ]
     },
     "execution_count": 6,
     "metadata": {},
     "output_type": "execute_result"
    }
   ],
   "source": [
    "# check for missing values\n",
    "melt_df.isna().sum()"
   ]
  },
  {
   "cell_type": "code",
   "execution_count": 7,
   "metadata": {},
   "outputs": [
    {
     "data": {
      "text/plain": [
       "False    29058\n",
       "dtype: int64"
      ]
     },
     "execution_count": 7,
     "metadata": {},
     "output_type": "execute_result"
    }
   ],
   "source": [
    "# check for duplicated values\n",
    "melt_df.duplicated().value_counts()"
   ]
  },
  {
   "cell_type": "code",
   "execution_count": 8,
   "metadata": {},
   "outputs": [],
   "source": [
    "# drop unncessary columns\n",
    "melt_df.drop(columns=['RegionID','SizeRank', 'State', 'Metro'], axis = 1, inplace = True)\n",
    "nyc = melt_df.copy()"
   ]
  },
  {
   "cell_type": "code",
   "execution_count": 9,
   "metadata": {},
   "outputs": [],
   "source": [
    "# rename Region Name and County columns to Zipcode and Borough\n",
    "nyc = nyc.rename({'RegionName':'Zipcode'}, axis = 'columns')\n",
    "nyc = nyc.rename({'CountyName':'Borough'}, axis = 'columns')"
   ]
  },
  {
   "cell_type": "code",
   "execution_count": 10,
   "metadata": {},
   "outputs": [
    {
     "data": {
      "text/plain": [
       "114"
      ]
     },
     "execution_count": 10,
     "metadata": {},
     "output_type": "execute_result"
    }
   ],
   "source": [
    "# check how many zip codes we're working with\n",
    "len(nyc.Zipcode.unique())"
   ]
  },
  {
   "cell_type": "code",
   "execution_count": 11,
   "metadata": {},
   "outputs": [],
   "source": [
    "# replace the previous county names to their prospective borough name\n",
    "nyc['Borough'].replace({'Kings': 'Brooklyn', 'Richmond': 'Staten Island', 'New York': 'Manhattan'}, inplace = True)"
   ]
  },
  {
   "cell_type": "code",
   "execution_count": 12,
   "metadata": {},
   "outputs": [],
   "source": [
    "# set the index by time\n",
    "nyc.set_index('time', inplace = True)"
   ]
  },
  {
   "cell_type": "markdown",
   "metadata": {},
   "source": [
    "## EDA/Visualization"
   ]
  },
  {
   "cell_type": "markdown",
   "metadata": {},
   "source": [
    "## Highest Mean Value by Borough"
   ]
  },
  {
   "cell_type": "code",
   "execution_count": 13,
   "metadata": {},
   "outputs": [],
   "source": [
    "def plot_mean(df, col ,value):\n",
    "    df.sort_values().plot.barh(color = 'g')\n",
    "    plt.title(f'Average Value by {col}')\n",
    "    plt.ylabel(f'{col}')\n",
    "    plt.xlabel(f'Value ($) in {value}')\n",
    "    return plt.show()"
   ]
  },
  {
   "cell_type": "code",
   "execution_count": 14,
   "metadata": {},
   "outputs": [
    {
     "data": {
      "text/plain": [
       "Borough\n",
       "Manhattan        5314744.0\n",
       "Brooklyn          582269.0\n",
       "Queens            439516.0\n",
       "Bronx             366853.0\n",
       "Staten Island     339585.0\n",
       "Name: value, dtype: float64"
      ]
     },
     "execution_count": 14,
     "metadata": {},
     "output_type": "execute_result"
    }
   ],
   "source": [
    "# Group by borough to check the highest average borough\n",
    "borough = nyc.groupby('Borough').value.mean().sort_values(ascending = False).round()\n",
    "borough"
   ]
  },
  {
   "cell_type": "code",
   "execution_count": 15,
   "metadata": {},
   "outputs": [
    {
     "data": {
      "image/png": "[encoded data removed]",
      "text/plain": [
       "<Figure size 432x288 with 1 Axes>"
      ]
     },
     "metadata": {
      "needs_background": "light"
     },
     "output_type": "display_data"
    }
   ],
   "source": [
    "# plot average value by borough\n",
    "plot_mean(borough , 'Borough', 'Millions')"
   ]
  },
  {
   "cell_type": "markdown",
   "metadata": {},
   "source": [
    "Manhattan has the highest average value."
   ]
  },
  {
   "cell_type": "markdown",
   "metadata": {},
   "source": [
    "## Highest Mean Value Zip Code"
   ]
  },
  {
   "cell_type": "code",
   "execution_count": 16,
   "metadata": {},
   "outputs": [
    {
     "data": {
      "image/png": "[encoded data removed]",
      "text/plain": [
       "<Figure size 432x288 with 1 Axes>"
      ]
     },
     "metadata": {
      "needs_background": "light"
     },
     "output_type": "display_data"
    }
   ],
   "source": [
    "zipcodes = nyc.groupby('Zipcode').value.mean().sort_values(ascending=False).round().head()\n",
    "plot_mean(zipcodes, 'Zipcode', 'Millions')"
   ]
  },
  {
   "cell_type": "markdown",
   "metadata": {},
   "source": [
    "The top 5 highest average home value is in 10021, 10011, 10014, 10128, 11217\n",
    "\n",
    "10021, 10011, 10014, 10128 are all based in Manhattan and 11217 is based in Brooklyn."
   ]
  },
  {
   "cell_type": "markdown",
   "metadata": {},
   "source": [
    "## Highest Mean Value Zip Code by Borough"
   ]
  },
  {
   "cell_type": "code",
   "execution_count": 17,
   "metadata": {},
   "outputs": [],
   "source": [
    "def get_borough_mean(col):\n",
    "    x = group[col].sort_values(ascending=False).head(10).round()\n",
    "    return x"
   ]
  },
  {
   "cell_type": "code",
   "execution_count": 18,
   "metadata": {},
   "outputs": [
    {
     "data": {
      "text/plain": [
       "Borough        Zipcode\n",
       "Bronx          10456      313059.615385\n",
       "               10459      292612.921348\n",
       "               10461      338021.132075\n",
       "               10462      308724.150943\n",
       "               10463      432449.056604\n",
       "                              ...      \n",
       "Staten Island  10308      353755.094340\n",
       "               10309      398166.415094\n",
       "               10310      322537.358491\n",
       "               10312      361979.622642\n",
       "               10314      352084.528302\n",
       "Name: value, Length: 114, dtype: float64"
      ]
     },
     "execution_count": 18,
     "metadata": {},
     "output_type": "execute_result"
    }
   ],
   "source": [
    "# Group by Borough and Zipcode to find the value mean\n",
    "group = nyc.groupby(['Borough', 'Zipcode']).value.mean()\n",
    "group"
   ]
  },
  {
   "cell_type": "markdown",
   "metadata": {},
   "source": [
    "### Manhattan"
   ]
  },
  {
   "cell_type": "code",
   "execution_count": 19,
   "metadata": {},
   "outputs": [
    {
     "data": {
      "image/png": "[encoded data removed]",
      "text/plain": [
       "<Figure size 432x288 with 1 Axes>"
      ]
     },
     "metadata": {
      "needs_background": "light"
     },
     "output_type": "display_data"
    },
    {
     "data": {
      "text/plain": [
       "Zipcode\n",
       "10021    12854267.0\n",
       "10011     7755844.0\n",
       "10014     6836902.0\n",
       "10128     5085436.0\n",
       "11231     1748707.0\n",
       "11106      503196.0\n",
       "Name: value, dtype: float64"
      ]
     },
     "execution_count": 19,
     "metadata": {},
     "output_type": "execute_result"
    }
   ],
   "source": [
    "plot_mean(group['Manhattan'], 'Manhattan', 'Millions')\n",
    "get_borough_mean('Manhattan')"
   ]
  },
  {
   "cell_type": "markdown",
   "metadata": {},
   "source": [
    "### Brooklyn"
   ]
  },
  {
   "cell_type": "code",
   "execution_count": 20,
   "metadata": {},
   "outputs": [
    {
     "data": {
      "image/png": "[encoded data removed]",
      "text/plain": [
       "<Figure size 720x720 with 1 Axes>"
      ]
     },
     "metadata": {
      "needs_background": "light"
     },
     "output_type": "display_data"
    },
    {
     "data": {
      "text/plain": [
       "Zipcode\n",
       "11217    1977407.0\n",
       "11205    1557881.0\n",
       "11238    1520451.0\n",
       "11215    1074962.0\n",
       "11230     644989.0\n",
       "11222     640048.0\n",
       "11209     632700.0\n",
       "11211     595167.0\n",
       "11218     590362.0\n",
       "11216     572172.0\n",
       "Name: value, dtype: float64"
      ]
     },
     "execution_count": 20,
     "metadata": {},
     "output_type": "execute_result"
    }
   ],
   "source": [
    "fig, ax = plt.subplots(figsize=(10,10))\n",
    "plot_mean(group['Brooklyn'], 'Manhattan', 'Millions')\n",
    "get_borough_mean('Brooklyn')"
   ]
  },
  {
   "cell_type": "markdown",
   "metadata": {},
   "source": [
    "### Queens"
   ]
  },
  {
   "cell_type": "code",
   "execution_count": 21,
   "metadata": {
    "scrolled": false
   },
   "outputs": [
    {
     "data": {
      "image/png": "[encoded data removed]",
      "text/plain": [
       "<Figure size 720x1080 with 1 Axes>"
      ]
     },
     "metadata": {
      "needs_background": "light"
     },
     "output_type": "display_data"
    },
    {
     "data": {
      "text/plain": [
       "Zipcode\n",
       "11363    735301.0\n",
       "11694    663122.0\n",
       "11360    656026.0\n",
       "11101    621317.0\n",
       "11362    615290.0\n",
       "11375    608117.0\n",
       "11415    569557.0\n",
       "11364    565134.0\n",
       "11357    556737.0\n",
       "11354    549951.0\n",
       "Name: value, dtype: float64"
      ]
     },
     "execution_count": 21,
     "metadata": {},
     "output_type": "execute_result"
    }
   ],
   "source": [
    "fig, ax = plt.subplots(figsize=(10,15))\n",
    "plot_mean(group['Queens'], 'Queens', 'Thousands')\n",
    "get_borough_mean('Queens')"
   ]
  },
  {
   "cell_type": "markdown",
   "metadata": {},
   "source": [
    "### Staten Island"
   ]
  },
  {
   "cell_type": "code",
   "execution_count": 22,
   "metadata": {
    "scrolled": false
   },
   "outputs": [
    {
     "data": {
      "image/png": "[encoded data removed]",
      "text/plain": [
       "<Figure size 720x1080 with 1 Axes>"
      ]
     },
     "metadata": {
      "needs_background": "light"
     },
     "output_type": "display_data"
    },
    {
     "data": {
      "text/plain": [
       "Zipcode\n",
       "10309    398166.0\n",
       "10307    393559.0\n",
       "10301    362121.0\n",
       "10312    361980.0\n",
       "10306    356281.0\n",
       "10308    353755.0\n",
       "10314    352085.0\n",
       "10305    327387.0\n",
       "10304    324466.0\n",
       "10310    322537.0\n",
       "Name: value, dtype: float64"
      ]
     },
     "execution_count": 22,
     "metadata": {},
     "output_type": "execute_result"
    }
   ],
   "source": [
    "fig, ax = plt.subplots(figsize=(10,15))\n",
    "plot_mean(group['Staten Island'], 'Staten Island', 'Thousands')\n",
    "get_borough_mean('Staten Island')"
   ]
  },
  {
   "cell_type": "markdown",
   "metadata": {},
   "source": [
    "### Bronx"
   ]
  },
  {
   "cell_type": "code",
   "execution_count": 23,
   "metadata": {},
   "outputs": [
    {
     "data": {
      "image/png": "[encoded data removed]",
      "text/plain": [
       "<Figure size 720x1080 with 1 Axes>"
      ]
     },
     "metadata": {
      "needs_background": "light"
     },
     "output_type": "display_data"
    },
    {
     "data": {
      "text/plain": [
       "Zipcode\n",
       "10471    766487.0\n",
       "10463    432449.0\n",
       "10464    408179.0\n",
       "10465    340501.0\n",
       "10461    338021.0\n",
       "10470    332445.0\n",
       "10456    313060.0\n",
       "10462    308724.0\n",
       "10469    303177.0\n",
       "10459    292613.0\n",
       "Name: value, dtype: float64"
      ]
     },
     "execution_count": 23,
     "metadata": {},
     "output_type": "execute_result"
    }
   ],
   "source": [
    "fig, ax = plt.subplots(figsize=(10,15))\n",
    "plot_mean(group['Bronx'], 'Bronx', 'Thousands')\n",
    "get_borough_mean('Bronx')"
   ]
  },
  {
   "cell_type": "markdown",
   "metadata": {},
   "source": [
    "### Trend Post Market Crisis"
   ]
  },
  {
   "cell_type": "code",
   "execution_count": 24,
   "metadata": {},
   "outputs": [
    {
     "data": {
      "text/html": [
       "<div>\n",
       "<style scoped>\n",
       "    .dataframe tbody tr th:only-of-type {\n",
       "        vertical-align: middle;\n",
       "    }\n",
       "\n",
       "    .dataframe tbody tr th {\n",
       "        vertical-align: top;\n",
       "    }\n",
       "\n",
       "    .dataframe thead th {\n",
       "        text-align: right;\n",
       "    }\n",
       "</style>\n",
       "<table border=\"1\" class=\"dataframe\">\n",
       "  <thead>\n",
       "    <tr style=\"text-align: right;\">\n",
       "      <th></th>\n",
       "      <th>value</th>\n",
       "    </tr>\n",
       "    <tr>\n",
       "      <th>time</th>\n",
       "      <th></th>\n",
       "    </tr>\n",
       "  </thead>\n",
       "  <tbody>\n",
       "    <tr>\n",
       "      <th>2009-01-01</th>\n",
       "      <td>7.724545e+05</td>\n",
       "    </tr>\n",
       "    <tr>\n",
       "      <th>2009-02-01</th>\n",
       "      <td>7.706821e+05</td>\n",
       "    </tr>\n",
       "    <tr>\n",
       "      <th>2009-03-01</th>\n",
       "      <td>7.696062e+05</td>\n",
       "    </tr>\n",
       "    <tr>\n",
       "      <th>2009-04-01</th>\n",
       "      <td>7.690875e+05</td>\n",
       "    </tr>\n",
       "    <tr>\n",
       "      <th>2009-05-01</th>\n",
       "      <td>7.669411e+05</td>\n",
       "    </tr>\n",
       "    <tr>\n",
       "      <th>...</th>\n",
       "      <td>...</td>\n",
       "    </tr>\n",
       "    <tr>\n",
       "      <th>2017-12-01</th>\n",
       "      <td>1.176734e+06</td>\n",
       "    </tr>\n",
       "    <tr>\n",
       "      <th>2018-01-01</th>\n",
       "      <td>1.182094e+06</td>\n",
       "    </tr>\n",
       "    <tr>\n",
       "      <th>2018-02-01</th>\n",
       "      <td>1.185925e+06</td>\n",
       "    </tr>\n",
       "    <tr>\n",
       "      <th>2018-03-01</th>\n",
       "      <td>1.187463e+06</td>\n",
       "    </tr>\n",
       "    <tr>\n",
       "      <th>2018-04-01</th>\n",
       "      <td>1.189456e+06</td>\n",
       "    </tr>\n",
       "  </tbody>\n",
       "</table>\n",
       "<p>112 rows × 1 columns</p>\n",
       "</div>"
      ],
      "text/plain": [
       "                   value\n",
       "time                    \n",
       "2009-01-01  7.724545e+05\n",
       "2009-02-01  7.706821e+05\n",
       "2009-03-01  7.696062e+05\n",
       "2009-04-01  7.690875e+05\n",
       "2009-05-01  7.669411e+05\n",
       "...                  ...\n",
       "2017-12-01  1.176734e+06\n",
       "2018-01-01  1.182094e+06\n",
       "2018-02-01  1.185925e+06\n",
       "2018-03-01  1.187463e+06\n",
       "2018-04-01  1.189456e+06\n",
       "\n",
       "[112 rows x 1 columns]"
      ]
     },
     "execution_count": 24,
     "metadata": {},
     "output_type": "execute_result"
    }
   ],
   "source": [
    "trend = nyc['2009':]\n",
    "trend = trend.groupby('time').aggregate({'value':'mean'})\n",
    "trend"
   ]
  },
  {
   "cell_type": "code",
   "execution_count": 25,
   "metadata": {},
   "outputs": [
    {
     "data": {
      "image/png": "[encoded data removed]",
      "text/plain": [
       "<Figure size 432x288 with 1 Axes>"
      ]
     },
     "metadata": {
      "needs_background": "light"
     },
     "output_type": "display_data"
    }
   ],
   "source": [
    "plot_trend(trend, 'Average NYC Property Trend (2009-2018)')"
   ]
  },
  {
   "cell_type": "markdown",
   "metadata": {},
   "source": [
    "We see here that there is an annual linear increase starting in 2013"
   ]
  },
  {
   "cell_type": "markdown",
   "metadata": {},
   "source": [
    "## Average ROI"
   ]
  },
  {
   "cell_type": "markdown",
   "metadata": {},
   "source": [
    "The metric we will be using will be Zillow's most citied metric the Zillow Home Value Index (ZHVI). The formula we will be using according to the ZHVI is growth over past year and forecasted growth over the next year.\n",
    "\n",
    "For example, to show how much home prices have grown for a region over the prior year and how much they are forecasted to grow in the coming year the formula is shown below:\n",
    "\n",
    "***\n",
    "$\\mathbf{\\text{Calculating historial growth over the past year}}$<br>\n",
    "***\n",
    "$$ Price Growth = 100 * ((this month current year - this month last year) / this month last year) $$\n",
    "***\n",
    "$\\mathbf{\\text{Calculating forecasted growth over the next year}}$<br>\n",
    "***\n",
    "$$ Forecasted Price Growth = 100 * ((this month next year - this month current year) / this month current year) $$"
   ]
  },
  {
   "cell_type": "code",
   "execution_count": 26,
   "metadata": {},
   "outputs": [],
   "source": [
    "nyc_8yrs = nyc_df.copy()\n",
    "nyc_8yrs.drop(columns = nyc_df.loc[:,'1996-04':'2009-12'], inplace = True)\n"
   ]
  },
  {
   "cell_type": "code",
   "execution_count": 27,
   "metadata": {},
   "outputs": [],
   "source": [
    "# change column name to avg roi\n",
    "nyc_8yrs['ROI'] = 100*((nyc_8yrs['2018-04']-nyc_8yrs['2010-01'])/nyc_8yrs['2010-01'])"
   ]
  },
  {
   "cell_type": "code",
   "execution_count": 28,
   "metadata": {},
   "outputs": [
    {
     "data": {
      "text/plain": [
       "RegionID      0\n",
       "RegionName    0\n",
       "City          0\n",
       "State         0\n",
       "Metro         0\n",
       "             ..\n",
       "2018-01       0\n",
       "2018-02       0\n",
       "2018-03       0\n",
       "2018-04       0\n",
       "ROI           2\n",
       "Length: 108, dtype: int64"
      ]
     },
     "execution_count": 28,
     "metadata": {},
     "output_type": "execute_result"
    }
   ],
   "source": [
    "nyc_8yrs.isnull().sum()"
   ]
  },
  {
   "cell_type": "code",
   "execution_count": 29,
   "metadata": {},
   "outputs": [
    {
     "data": {
      "text/html": [
       "<div>\n",
       "<style scoped>\n",
       "    .dataframe tbody tr th:only-of-type {\n",
       "        vertical-align: middle;\n",
       "    }\n",
       "\n",
       "    .dataframe tbody tr th {\n",
       "        vertical-align: top;\n",
       "    }\n",
       "\n",
       "    .dataframe thead th {\n",
       "        text-align: right;\n",
       "    }\n",
       "</style>\n",
       "<table border=\"1\" class=\"dataframe\">\n",
       "  <thead>\n",
       "    <tr style=\"text-align: right;\">\n",
       "      <th></th>\n",
       "      <th>RegionID</th>\n",
       "      <th>RegionName</th>\n",
       "      <th>City</th>\n",
       "      <th>State</th>\n",
       "      <th>Metro</th>\n",
       "      <th>CountyName</th>\n",
       "      <th>SizeRank</th>\n",
       "      <th>2010-01</th>\n",
       "      <th>2010-02</th>\n",
       "      <th>2010-03</th>\n",
       "      <th>...</th>\n",
       "      <th>2017-08</th>\n",
       "      <th>2017-09</th>\n",
       "      <th>2017-10</th>\n",
       "      <th>2017-11</th>\n",
       "      <th>2017-12</th>\n",
       "      <th>2018-01</th>\n",
       "      <th>2018-02</th>\n",
       "      <th>2018-03</th>\n",
       "      <th>2018-04</th>\n",
       "      <th>ROI</th>\n",
       "    </tr>\n",
       "  </thead>\n",
       "  <tbody>\n",
       "    <tr>\n",
       "      <th>36</th>\n",
       "      <td>61796</td>\n",
       "      <td>10456</td>\n",
       "      <td>New York</td>\n",
       "      <td>NY</td>\n",
       "      <td>New York</td>\n",
       "      <td>Bronx</td>\n",
       "      <td>37</td>\n",
       "      <td>NaN</td>\n",
       "      <td>NaN</td>\n",
       "      <td>NaN</td>\n",
       "      <td>...</td>\n",
       "      <td>357100</td>\n",
       "      <td>356500</td>\n",
       "      <td>357200</td>\n",
       "      <td>362000</td>\n",
       "      <td>368500</td>\n",
       "      <td>374100</td>\n",
       "      <td>379800</td>\n",
       "      <td>388100</td>\n",
       "      <td>394400</td>\n",
       "      <td>NaN</td>\n",
       "    </tr>\n",
       "    <tr>\n",
       "      <th>1299</th>\n",
       "      <td>62004</td>\n",
       "      <td>11101</td>\n",
       "      <td>New York</td>\n",
       "      <td>NY</td>\n",
       "      <td>New York</td>\n",
       "      <td>Queens</td>\n",
       "      <td>1300</td>\n",
       "      <td>NaN</td>\n",
       "      <td>NaN</td>\n",
       "      <td>NaN</td>\n",
       "      <td>...</td>\n",
       "      <td>739000</td>\n",
       "      <td>708300</td>\n",
       "      <td>698500</td>\n",
       "      <td>711200</td>\n",
       "      <td>742900</td>\n",
       "      <td>767300</td>\n",
       "      <td>769700</td>\n",
       "      <td>767200</td>\n",
       "      <td>782500</td>\n",
       "      <td>NaN</td>\n",
       "    </tr>\n",
       "  </tbody>\n",
       "</table>\n",
       "<p>2 rows × 108 columns</p>\n",
       "</div>"
      ],
      "text/plain": [
       "      RegionID  RegionName      City State     Metro CountyName  SizeRank  \\\n",
       "36       61796       10456  New York    NY  New York      Bronx        37   \n",
       "1299     62004       11101  New York    NY  New York     Queens      1300   \n",
       "\n",
       "      2010-01  2010-02  2010-03  ...  2017-08  2017-09  2017-10  2017-11  \\\n",
       "36        NaN      NaN      NaN  ...   357100   356500   357200   362000   \n",
       "1299      NaN      NaN      NaN  ...   739000   708300   698500   711200   \n",
       "\n",
       "      2017-12  2018-01  2018-02  2018-03  2018-04  ROI  \n",
       "36     368500   374100   379800   388100   394400  NaN  \n",
       "1299   742900   767300   769700   767200   782500  NaN  \n",
       "\n",
       "[2 rows x 108 columns]"
      ]
     },
     "execution_count": 29,
     "metadata": {},
     "output_type": "execute_result"
    }
   ],
   "source": [
    "nyc_8yrs[nyc_8yrs['ROI'].isna()]"
   ]
  },
  {
   "cell_type": "code",
   "execution_count": 30,
   "metadata": {},
   "outputs": [],
   "source": [
    "nyc_8yrs = melt_data_roi(nyc_8yrs)\n",
    "\n",
    "nyc_8yrs.drop(columns=['RegionID','SizeRank', 'State', 'Metro'], axis = 1, inplace = True)"
   ]
  },
  {
   "cell_type": "code",
   "execution_count": 31,
   "metadata": {},
   "outputs": [],
   "source": [
    "nyc_8yrs = nyc_8yrs.rename({'RegionName':'Zipcode'}, axis = 'columns')\n",
    "nyc_8yrs = nyc_8yrs.rename({'CountyName': 'Borough'}, axis = 'columns')"
   ]
  },
  {
   "cell_type": "code",
   "execution_count": 32,
   "metadata": {},
   "outputs": [],
   "source": [
    "# replace the previous county names to their prospective borough name\n",
    "nyc_8yrs['Borough'].replace({'Kings': 'Brooklyn', 'Richmond': 'Staten Island', 'New York': 'Manhattan'}, inplace = True)"
   ]
  },
  {
   "cell_type": "code",
   "execution_count": 33,
   "metadata": {},
   "outputs": [
    {
     "name": "stdout",
     "output_type": "stream",
     "text": [
      "<class 'pandas.core.frame.DataFrame'>\n",
      "Int64Index: 11328 entries, 0 to 11399\n",
      "Data columns (total 6 columns):\n",
      " #   Column   Non-Null Count  Dtype         \n",
      "---  ------   --------------  -----         \n",
      " 0   Zipcode  11328 non-null  int64         \n",
      " 1   City     11328 non-null  object        \n",
      " 2   Borough  11328 non-null  object        \n",
      " 3   ROI      11200 non-null  float64       \n",
      " 4   time     11328 non-null  datetime64[ns]\n",
      " 5   value    11328 non-null  float64       \n",
      "dtypes: datetime64[ns](1), float64(2), int64(1), object(2)\n",
      "memory usage: 619.5+ KB\n"
     ]
    }
   ],
   "source": [
    "# we have 128 missing values for ROI\n",
    "nyc_8yrs.info()"
   ]
  },
  {
   "cell_type": "code",
   "execution_count": 34,
   "metadata": {},
   "outputs": [
    {
     "data": {
      "image/png": "[encoded data removed]",
      "text/plain": [
       "<Figure size 720x864 with 1 Axes>"
      ]
     },
     "metadata": {
      "needs_background": "light"
     },
     "output_type": "display_data"
    }
   ],
   "source": [
    "# Group and plot the top 10 Zip Code's return on investment \n",
    "group_roi = nyc_8yrs.groupby(['Zipcode']).ROI.mean().sort_values(ascending=False)\n",
    "fig,ax=plt.subplots(figsize=(10,12))\n",
    "group_roi.head(10).sort_values().plot.barh(color = 'g')\n",
    "plt.title('ROI by Top 10 Zip Codes', fontsize=30)\n",
    "plt.xlabel('ROI %', fontsize=20)\n",
    "plt.ylabel('Price', fontsize=20)\n",
    "plt.show()"
   ]
  },
  {
   "cell_type": "code",
   "execution_count": 41,
   "metadata": {},
   "outputs": [
    {
     "data": {
      "text/plain": [
       "182.84305669679492"
      ]
     },
     "execution_count": 41,
     "metadata": {},
     "output_type": "execute_result"
    }
   ],
   "source": [
    "group_roi[11222]"
   ]
  },
  {
   "cell_type": "markdown",
   "metadata": {},
   "source": [
    "## ROI by Borough"
   ]
  },
  {
   "cell_type": "code",
   "execution_count": 35,
   "metadata": {},
   "outputs": [
    {
     "data": {
      "text/plain": [
       "Borough        Zipcode\n",
       "Bronx          10456            NaN\n",
       "               10459      45.377258\n",
       "               10461      20.698577\n",
       "               10462      32.062188\n",
       "               10463      34.004474\n",
       "                            ...    \n",
       "Staten Island  10308      32.189707\n",
       "               10309      28.842756\n",
       "               10310      37.612921\n",
       "               10312      30.735402\n",
       "               10314      39.949622\n",
       "Name: ROI, Length: 114, dtype: float64"
      ]
     },
     "execution_count": 35,
     "metadata": {},
     "output_type": "execute_result"
    }
   ],
   "source": [
    "borough_ROI = nyc_8yrs.groupby(['Borough', 'Zipcode']).ROI.mean()\n",
    "borough_ROI"
   ]
  },
  {
   "cell_type": "markdown",
   "metadata": {},
   "source": [
    "## Manhattan"
   ]
  },
  {
   "cell_type": "code",
   "execution_count": 36,
   "metadata": {},
   "outputs": [
    {
     "data": {
      "image/png": "[encoded data removed]",
      "text/plain": [
       "<Figure size 720x1080 with 1 Axes>"
      ]
     },
     "metadata": {
      "needs_background": "light"
     },
     "output_type": "display_data"
    },
    {
     "data": {
      "text/plain": [
       "Zipcode\n",
       "11231    134.951381\n",
       "11106    112.283737\n",
       "10011     69.159237\n",
       "10021     52.141643\n",
       "10014     49.045932\n",
       "10128     23.443297\n",
       "Name: ROI, dtype: float64"
      ]
     },
     "execution_count": 36,
     "metadata": {},
     "output_type": "execute_result"
    }
   ],
   "source": [
    "fig, ax = plt.subplots(figsize=(10,15))\n",
    "plot_ROI(borough_ROI['Manhattan'], 'Manhattan')\n",
    "get_borough_ROI(borough_ROI['Manhattan'])"
   ]
  },
  {
   "cell_type": "markdown",
   "metadata": {},
   "source": [
    "## Brooklyn"
   ]
  },
  {
   "cell_type": "code",
   "execution_count": 37,
   "metadata": {},
   "outputs": [
    {
     "data": {
      "image/png": "[encoded data removed]",
      "text/plain": [
       "<Figure size 720x1080 with 1 Axes>"
      ]
     },
     "metadata": {
      "needs_background": "light"
     },
     "output_type": "display_data"
    },
    {
     "data": {
      "text/plain": [
       "Zipcode\n",
       "11216    226.132191\n",
       "11222    182.843057\n",
       "11211    163.758934\n",
       "11221    155.593468\n",
       "11238    141.225650\n",
       "11217    136.710910\n",
       "11233    131.729201\n",
       "11215     88.642287\n",
       "11218     88.585110\n",
       "11226     81.086670\n",
       "Name: ROI, dtype: float64"
      ]
     },
     "execution_count": 37,
     "metadata": {},
     "output_type": "execute_result"
    }
   ],
   "source": [
    "fig, ax = plt.subplots(figsize=(10,15))\n",
    "plot_ROI(borough_ROI['Brooklyn'], 'Brooklyn')\n",
    "get_borough_ROI(borough_ROI['Brooklyn'])"
   ]
  },
  {
   "cell_type": "markdown",
   "metadata": {},
   "source": [
    "## Queens"
   ]
  },
  {
   "cell_type": "code",
   "execution_count": 38,
   "metadata": {},
   "outputs": [
    {
     "data": {
      "image/png": "[encoded data removed]",
      "text/plain": [
       "<Figure size 720x1080 with 1 Axes>"
      ]
     },
     "metadata": {
      "needs_background": "light"
     },
     "output_type": "display_data"
    },
    {
     "data": {
      "text/plain": [
       "Zipcode\n",
       "11102    103.308958\n",
       "11104     76.564195\n",
       "11103     72.297297\n",
       "11368     68.940960\n",
       "11367     66.782502\n",
       "11105     65.691869\n",
       "11355     65.433934\n",
       "11421     65.386941\n",
       "11372     64.685649\n",
       "11356     60.539629\n",
       "Name: ROI, dtype: float64"
      ]
     },
     "execution_count": 38,
     "metadata": {},
     "output_type": "execute_result"
    }
   ],
   "source": [
    "fig, ax = plt.subplots(figsize=(10,15))\n",
    "plot_ROI(borough_ROI['Queens'], 'Queens')\n",
    "get_borough_ROI(borough_ROI['Queens'])"
   ]
  },
  {
   "cell_type": "markdown",
   "metadata": {},
   "source": [
    "## Staten Island"
   ]
  },
  {
   "cell_type": "code",
   "execution_count": 39,
   "metadata": {},
   "outputs": [
    {
     "data": {
      "image/png": "[encoded data removed]",
      "text/plain": [
       "<Figure size 720x1080 with 1 Axes>"
      ]
     },
     "metadata": {
      "needs_background": "light"
     },
     "output_type": "display_data"
    },
    {
     "data": {
      "text/plain": [
       "Zipcode\n",
       "10304    40.866791\n",
       "10314    39.949622\n",
       "10305    39.577201\n",
       "10310    37.612921\n",
       "10306    35.840485\n",
       "10302    32.374561\n",
       "10308    32.189707\n",
       "10301    32.177863\n",
       "10312    30.735402\n",
       "10307    28.952082\n",
       "Name: ROI, dtype: float64"
      ]
     },
     "execution_count": 39,
     "metadata": {},
     "output_type": "execute_result"
    }
   ],
   "source": [
    "fig, ax = plt.subplots(figsize=(10,15))\n",
    "plot_ROI(borough_ROI['Staten Island'], 'Staten Island')\n",
    "get_borough_ROI(borough_ROI['Staten Island'])"
   ]
  },
  {
   "cell_type": "markdown",
   "metadata": {},
   "source": [
    "## Bronx"
   ]
  },
  {
   "cell_type": "code",
   "execution_count": 40,
   "metadata": {},
   "outputs": [
    {
     "data": {
      "image/png": "[encoded data removed]",
      "text/plain": [
       "<Figure size 720x1080 with 1 Axes>"
      ]
     },
     "metadata": {
      "needs_background": "light"
     },
     "output_type": "display_data"
    },
    {
     "data": {
      "text/plain": [
       "Zipcode\n",
       "10459    45.377258\n",
       "10463    34.004474\n",
       "10473    33.398121\n",
       "10462    32.062188\n",
       "10471    31.860913\n",
       "10466    31.280941\n",
       "10467    27.369704\n",
       "10470    24.266667\n",
       "10469    24.118846\n",
       "10465    22.116110\n",
       "Name: ROI, dtype: float64"
      ]
     },
     "execution_count": 40,
     "metadata": {},
     "output_type": "execute_result"
    }
   ],
   "source": [
    "fig, ax = plt.subplots(figsize=(10,15))\n",
    "plot_ROI(borough_ROI['Bronx'], 'Bronx')\n",
    "get_borough_ROI(borough_ROI['Bronx'])"
   ]
  }
 ],
 "metadata": {
  "kernelspec": {
   "display_name": "Python (learn-env)",
   "language": "python",
   "name": "learn-env"
  },
  "language_info": {
   "codemirror_mode": {
    "name": "ipython",
    "version": 3
   },
   "file_extension": ".py",
   "mimetype": "text/x-python",
   "name": "python",
   "nbconvert_exporter": "python",
   "pygments_lexer": "ipython3",
   "version": "3.8.5"
  },
  "toc": {
   "base_numbering": 1,
   "nav_menu": {},
   "number_sections": true,
   "sideBar": true,
   "skip_h1_title": false,
   "title_cell": "Table of Contents",
   "title_sidebar": "Contents",
   "toc_cell": false,
   "toc_position": {
    "height": "calc(100% - 180px)",
    "left": "10px",
    "top": "150px",
    "width": "335.797px"
   },
   "toc_section_display": true,
   "toc_window_display": true
  }
 },
 "nbformat": 4,
 "nbformat_minor": 2
}
