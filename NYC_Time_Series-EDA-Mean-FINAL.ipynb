{
 "cells": [
  {
   "cell_type": "markdown",
   "metadata": {},
   "source": [
    "# New York City Real Estate Time Series Analysis"
   ]
  },
  {
   "cell_type": "markdown",
   "metadata": {},
   "source": [
    "## Business Problem\n",
    "\n",
    "New York City is known to be the most exciting city to live in for its diversity, culture, and opportunity. Since NYC is a metro for apartment rentals, our goal as a real estate agency is to find areas in NYC that has potential for investing in.\n",
    "\n",
    "Our main questions to answer will be:\n",
    "\n",
    "- Which zip codes will bring profit in the future?\n",
    "\n",
    "- What codes based on our data has the highest ROI and will it continue to generate profit?\n",
    "\n",
    "## Business Value\n",
    "\n",
    "Why is this information important for our client? We are looking to determine which zip codes holds future value based on prior historical information provided by Zillow's [Data](https://www.zillow.com/research/data/). The outcome is provide aspiring landlords on which areas in NYC that will bring the best return on investment."
   ]
  },
  {
   "cell_type": "markdown",
   "metadata": {},
   "source": [
    "# Load the Data/Filtering for Chosen Zipcodes\n",
    "\n",
    "Here we will filter out our dataframe to only New York City."
   ]
  },
  {
   "cell_type": "code",
   "execution_count": 1,
   "metadata": {},
   "outputs": [],
   "source": [
    "import pandas as pd\n",
    "import pandas.tseries\n",
    "import statsmodels.api as sm\n",
    "import matplotlib.pyplot as plt\n",
    "import matplotlib as matplotlib\n",
    "import seaborn as sns\n",
    "import statsmodels.api as sm\n",
    "\n",
    "# Dickey Fuller Test\n",
    "from statsmodels.tsa.stattools import adfuller\n",
    "# Auto Correlation\n",
    "from statsmodels.graphics.tsaplots import plot_pacf,plot_acf\n",
    "# Decomposition\n",
    "from statsmodels.tsa.seasonal import seasonal_decompose\n",
    "# AR Autoregressive\n",
    "from sklearn.model_selection import TimeSeriesSplit\n",
    "from sklearn.metrics import mean_squared_error\n",
    "from statsmodels.tsa.arima.model import ARIMA\n",
    "from statsmodels.tsa.statespace.sarimax import SARIMAX\n",
    "import itertools\n",
    "import warnings\n",
    "\n",
    "import pmdarima as pm\n",
    "from pmdarima import model_selection\n",
    "from pmdarima.utils import decomposed_plot\n",
    "from pmdarima.arima import decompose\n",
    "from pmdarima.arima.stationarity import ADFTest\n",
    "from pmdarima.model_selection import train_test_split\n",
    "\n",
    "from help_functions import *\n",
    "\n",
    "warnings.filterwarnings('ignore')"
   ]
  },
  {
   "cell_type": "code",
   "execution_count": 2,
   "metadata": {},
   "outputs": [
    {
     "data": {
      "text/html": [
       "<div>\n",
       "<style scoped>\n",
       "    .dataframe tbody tr th:only-of-type {\n",
       "        vertical-align: middle;\n",
       "    }\n",
       "\n",
       "    .dataframe tbody tr th {\n",
       "        vertical-align: top;\n",
       "    }\n",
       "\n",
       "    .dataframe thead th {\n",
       "        text-align: right;\n",
       "    }\n",
       "</style>\n",
       "<table border=\"1\" class=\"dataframe\">\n",
       "  <thead>\n",
       "    <tr style=\"text-align: right;\">\n",
       "      <th></th>\n",
       "      <th>RegionID</th>\n",
       "      <th>RegionName</th>\n",
       "      <th>City</th>\n",
       "      <th>State</th>\n",
       "      <th>Metro</th>\n",
       "      <th>CountyName</th>\n",
       "      <th>SizeRank</th>\n",
       "      <th>1996-04</th>\n",
       "      <th>1996-05</th>\n",
       "      <th>1996-06</th>\n",
       "      <th>...</th>\n",
       "      <th>2017-07</th>\n",
       "      <th>2017-08</th>\n",
       "      <th>2017-09</th>\n",
       "      <th>2017-10</th>\n",
       "      <th>2017-11</th>\n",
       "      <th>2017-12</th>\n",
       "      <th>2018-01</th>\n",
       "      <th>2018-02</th>\n",
       "      <th>2018-03</th>\n",
       "      <th>2018-04</th>\n",
       "    </tr>\n",
       "  </thead>\n",
       "  <tbody>\n",
       "    <tr>\n",
       "      <th>0</th>\n",
       "      <td>84654</td>\n",
       "      <td>60657</td>\n",
       "      <td>Chicago</td>\n",
       "      <td>IL</td>\n",
       "      <td>Chicago</td>\n",
       "      <td>Cook</td>\n",
       "      <td>1</td>\n",
       "      <td>334200.0</td>\n",
       "      <td>335400.0</td>\n",
       "      <td>336500.0</td>\n",
       "      <td>...</td>\n",
       "      <td>1005500</td>\n",
       "      <td>1007500</td>\n",
       "      <td>1007800</td>\n",
       "      <td>1009600</td>\n",
       "      <td>1013300</td>\n",
       "      <td>1018700</td>\n",
       "      <td>1024400</td>\n",
       "      <td>1030700</td>\n",
       "      <td>1033800</td>\n",
       "      <td>1030600</td>\n",
       "    </tr>\n",
       "    <tr>\n",
       "      <th>1</th>\n",
       "      <td>90668</td>\n",
       "      <td>75070</td>\n",
       "      <td>McKinney</td>\n",
       "      <td>TX</td>\n",
       "      <td>Dallas-Fort Worth</td>\n",
       "      <td>Collin</td>\n",
       "      <td>2</td>\n",
       "      <td>235700.0</td>\n",
       "      <td>236900.0</td>\n",
       "      <td>236700.0</td>\n",
       "      <td>...</td>\n",
       "      <td>308000</td>\n",
       "      <td>310000</td>\n",
       "      <td>312500</td>\n",
       "      <td>314100</td>\n",
       "      <td>315000</td>\n",
       "      <td>316600</td>\n",
       "      <td>318100</td>\n",
       "      <td>319600</td>\n",
       "      <td>321100</td>\n",
       "      <td>321800</td>\n",
       "    </tr>\n",
       "    <tr>\n",
       "      <th>2</th>\n",
       "      <td>91982</td>\n",
       "      <td>77494</td>\n",
       "      <td>Katy</td>\n",
       "      <td>TX</td>\n",
       "      <td>Houston</td>\n",
       "      <td>Harris</td>\n",
       "      <td>3</td>\n",
       "      <td>210400.0</td>\n",
       "      <td>212200.0</td>\n",
       "      <td>212200.0</td>\n",
       "      <td>...</td>\n",
       "      <td>321000</td>\n",
       "      <td>320600</td>\n",
       "      <td>320200</td>\n",
       "      <td>320400</td>\n",
       "      <td>320800</td>\n",
       "      <td>321200</td>\n",
       "      <td>321200</td>\n",
       "      <td>323000</td>\n",
       "      <td>326900</td>\n",
       "      <td>329900</td>\n",
       "    </tr>\n",
       "    <tr>\n",
       "      <th>3</th>\n",
       "      <td>84616</td>\n",
       "      <td>60614</td>\n",
       "      <td>Chicago</td>\n",
       "      <td>IL</td>\n",
       "      <td>Chicago</td>\n",
       "      <td>Cook</td>\n",
       "      <td>4</td>\n",
       "      <td>498100.0</td>\n",
       "      <td>500900.0</td>\n",
       "      <td>503100.0</td>\n",
       "      <td>...</td>\n",
       "      <td>1289800</td>\n",
       "      <td>1287700</td>\n",
       "      <td>1287400</td>\n",
       "      <td>1291500</td>\n",
       "      <td>1296600</td>\n",
       "      <td>1299000</td>\n",
       "      <td>1302700</td>\n",
       "      <td>1306400</td>\n",
       "      <td>1308500</td>\n",
       "      <td>1307000</td>\n",
       "    </tr>\n",
       "    <tr>\n",
       "      <th>4</th>\n",
       "      <td>93144</td>\n",
       "      <td>79936</td>\n",
       "      <td>El Paso</td>\n",
       "      <td>TX</td>\n",
       "      <td>El Paso</td>\n",
       "      <td>El Paso</td>\n",
       "      <td>5</td>\n",
       "      <td>77300.0</td>\n",
       "      <td>77300.0</td>\n",
       "      <td>77300.0</td>\n",
       "      <td>...</td>\n",
       "      <td>119100</td>\n",
       "      <td>119400</td>\n",
       "      <td>120000</td>\n",
       "      <td>120300</td>\n",
       "      <td>120300</td>\n",
       "      <td>120300</td>\n",
       "      <td>120300</td>\n",
       "      <td>120500</td>\n",
       "      <td>121000</td>\n",
       "      <td>121500</td>\n",
       "    </tr>\n",
       "    <tr>\n",
       "      <th>...</th>\n",
       "      <td>...</td>\n",
       "      <td>...</td>\n",
       "      <td>...</td>\n",
       "      <td>...</td>\n",
       "      <td>...</td>\n",
       "      <td>...</td>\n",
       "      <td>...</td>\n",
       "      <td>...</td>\n",
       "      <td>...</td>\n",
       "      <td>...</td>\n",
       "      <td>...</td>\n",
       "      <td>...</td>\n",
       "      <td>...</td>\n",
       "      <td>...</td>\n",
       "      <td>...</td>\n",
       "      <td>...</td>\n",
       "      <td>...</td>\n",
       "      <td>...</td>\n",
       "      <td>...</td>\n",
       "      <td>...</td>\n",
       "      <td>...</td>\n",
       "    </tr>\n",
       "    <tr>\n",
       "      <th>14718</th>\n",
       "      <td>58333</td>\n",
       "      <td>1338</td>\n",
       "      <td>Ashfield</td>\n",
       "      <td>MA</td>\n",
       "      <td>Greenfield Town</td>\n",
       "      <td>Franklin</td>\n",
       "      <td>14719</td>\n",
       "      <td>94600.0</td>\n",
       "      <td>94300.0</td>\n",
       "      <td>94000.0</td>\n",
       "      <td>...</td>\n",
       "      <td>216800</td>\n",
       "      <td>217700</td>\n",
       "      <td>218600</td>\n",
       "      <td>218500</td>\n",
       "      <td>218100</td>\n",
       "      <td>216400</td>\n",
       "      <td>213100</td>\n",
       "      <td>209800</td>\n",
       "      <td>209200</td>\n",
       "      <td>209300</td>\n",
       "    </tr>\n",
       "    <tr>\n",
       "      <th>14719</th>\n",
       "      <td>59107</td>\n",
       "      <td>3293</td>\n",
       "      <td>Woodstock</td>\n",
       "      <td>NH</td>\n",
       "      <td>Claremont</td>\n",
       "      <td>Grafton</td>\n",
       "      <td>14720</td>\n",
       "      <td>92700.0</td>\n",
       "      <td>92500.0</td>\n",
       "      <td>92400.0</td>\n",
       "      <td>...</td>\n",
       "      <td>202100</td>\n",
       "      <td>208400</td>\n",
       "      <td>212200</td>\n",
       "      <td>215200</td>\n",
       "      <td>214300</td>\n",
       "      <td>213100</td>\n",
       "      <td>213700</td>\n",
       "      <td>218300</td>\n",
       "      <td>222700</td>\n",
       "      <td>225800</td>\n",
       "    </tr>\n",
       "    <tr>\n",
       "      <th>14720</th>\n",
       "      <td>75672</td>\n",
       "      <td>40404</td>\n",
       "      <td>Berea</td>\n",
       "      <td>KY</td>\n",
       "      <td>Richmond</td>\n",
       "      <td>Madison</td>\n",
       "      <td>14721</td>\n",
       "      <td>57100.0</td>\n",
       "      <td>57300.0</td>\n",
       "      <td>57500.0</td>\n",
       "      <td>...</td>\n",
       "      <td>121800</td>\n",
       "      <td>122800</td>\n",
       "      <td>124600</td>\n",
       "      <td>126700</td>\n",
       "      <td>128800</td>\n",
       "      <td>130600</td>\n",
       "      <td>131700</td>\n",
       "      <td>132500</td>\n",
       "      <td>133000</td>\n",
       "      <td>133400</td>\n",
       "    </tr>\n",
       "    <tr>\n",
       "      <th>14721</th>\n",
       "      <td>93733</td>\n",
       "      <td>81225</td>\n",
       "      <td>Mount Crested Butte</td>\n",
       "      <td>CO</td>\n",
       "      <td>NaN</td>\n",
       "      <td>Gunnison</td>\n",
       "      <td>14722</td>\n",
       "      <td>191100.0</td>\n",
       "      <td>192400.0</td>\n",
       "      <td>193700.0</td>\n",
       "      <td>...</td>\n",
       "      <td>662800</td>\n",
       "      <td>671200</td>\n",
       "      <td>682400</td>\n",
       "      <td>695600</td>\n",
       "      <td>695500</td>\n",
       "      <td>694700</td>\n",
       "      <td>706400</td>\n",
       "      <td>705300</td>\n",
       "      <td>681500</td>\n",
       "      <td>664400</td>\n",
       "    </tr>\n",
       "    <tr>\n",
       "      <th>14722</th>\n",
       "      <td>95851</td>\n",
       "      <td>89155</td>\n",
       "      <td>Mesquite</td>\n",
       "      <td>NV</td>\n",
       "      <td>Las Vegas</td>\n",
       "      <td>Clark</td>\n",
       "      <td>14723</td>\n",
       "      <td>176400.0</td>\n",
       "      <td>176300.0</td>\n",
       "      <td>176100.0</td>\n",
       "      <td>...</td>\n",
       "      <td>333800</td>\n",
       "      <td>336400</td>\n",
       "      <td>339700</td>\n",
       "      <td>343800</td>\n",
       "      <td>346800</td>\n",
       "      <td>348900</td>\n",
       "      <td>350400</td>\n",
       "      <td>353000</td>\n",
       "      <td>356000</td>\n",
       "      <td>357200</td>\n",
       "    </tr>\n",
       "  </tbody>\n",
       "</table>\n",
       "<p>14723 rows × 272 columns</p>\n",
       "</div>"
      ],
      "text/plain": [
       "       RegionID  RegionName                 City State              Metro  \\\n",
       "0         84654       60657              Chicago    IL            Chicago   \n",
       "1         90668       75070             McKinney    TX  Dallas-Fort Worth   \n",
       "2         91982       77494                 Katy    TX            Houston   \n",
       "3         84616       60614              Chicago    IL            Chicago   \n",
       "4         93144       79936              El Paso    TX            El Paso   \n",
       "...         ...         ...                  ...   ...                ...   \n",
       "14718     58333        1338             Ashfield    MA    Greenfield Town   \n",
       "14719     59107        3293            Woodstock    NH          Claremont   \n",
       "14720     75672       40404                Berea    KY           Richmond   \n",
       "14721     93733       81225  Mount Crested Butte    CO                NaN   \n",
       "14722     95851       89155             Mesquite    NV          Las Vegas   \n",
       "\n",
       "      CountyName  SizeRank   1996-04   1996-05   1996-06  ...  2017-07  \\\n",
       "0           Cook         1  334200.0  335400.0  336500.0  ...  1005500   \n",
       "1         Collin         2  235700.0  236900.0  236700.0  ...   308000   \n",
       "2         Harris         3  210400.0  212200.0  212200.0  ...   321000   \n",
       "3           Cook         4  498100.0  500900.0  503100.0  ...  1289800   \n",
       "4        El Paso         5   77300.0   77300.0   77300.0  ...   119100   \n",
       "...          ...       ...       ...       ...       ...  ...      ...   \n",
       "14718   Franklin     14719   94600.0   94300.0   94000.0  ...   216800   \n",
       "14719    Grafton     14720   92700.0   92500.0   92400.0  ...   202100   \n",
       "14720    Madison     14721   57100.0   57300.0   57500.0  ...   121800   \n",
       "14721   Gunnison     14722  191100.0  192400.0  193700.0  ...   662800   \n",
       "14722      Clark     14723  176400.0  176300.0  176100.0  ...   333800   \n",
       "\n",
       "       2017-08  2017-09  2017-10  2017-11  2017-12  2018-01  2018-02  2018-03  \\\n",
       "0      1007500  1007800  1009600  1013300  1018700  1024400  1030700  1033800   \n",
       "1       310000   312500   314100   315000   316600   318100   319600   321100   \n",
       "2       320600   320200   320400   320800   321200   321200   323000   326900   \n",
       "3      1287700  1287400  1291500  1296600  1299000  1302700  1306400  1308500   \n",
       "4       119400   120000   120300   120300   120300   120300   120500   121000   \n",
       "...        ...      ...      ...      ...      ...      ...      ...      ...   \n",
       "14718   217700   218600   218500   218100   216400   213100   209800   209200   \n",
       "14719   208400   212200   215200   214300   213100   213700   218300   222700   \n",
       "14720   122800   124600   126700   128800   130600   131700   132500   133000   \n",
       "14721   671200   682400   695600   695500   694700   706400   705300   681500   \n",
       "14722   336400   339700   343800   346800   348900   350400   353000   356000   \n",
       "\n",
       "       2018-04  \n",
       "0      1030600  \n",
       "1       321800  \n",
       "2       329900  \n",
       "3      1307000  \n",
       "4       121500  \n",
       "...        ...  \n",
       "14718   209300  \n",
       "14719   225800  \n",
       "14720   133400  \n",
       "14721   664400  \n",
       "14722   357200  \n",
       "\n",
       "[14723 rows x 272 columns]"
      ]
     },
     "execution_count": 2,
     "metadata": {},
     "output_type": "execute_result"
    }
   ],
   "source": [
    "df = pd.read_csv('zillow_data.csv')\n",
    "df"
   ]
  },
  {
   "cell_type": "code",
   "execution_count": 3,
   "metadata": {},
   "outputs": [
    {
     "data": {
      "text/html": [
       "<div>\n",
       "<style scoped>\n",
       "    .dataframe tbody tr th:only-of-type {\n",
       "        vertical-align: middle;\n",
       "    }\n",
       "\n",
       "    .dataframe tbody tr th {\n",
       "        vertical-align: top;\n",
       "    }\n",
       "\n",
       "    .dataframe thead th {\n",
       "        text-align: right;\n",
       "    }\n",
       "</style>\n",
       "<table border=\"1\" class=\"dataframe\">\n",
       "  <thead>\n",
       "    <tr style=\"text-align: right;\">\n",
       "      <th></th>\n",
       "      <th>RegionID</th>\n",
       "      <th>RegionName</th>\n",
       "      <th>City</th>\n",
       "      <th>State</th>\n",
       "      <th>Metro</th>\n",
       "      <th>CountyName</th>\n",
       "      <th>SizeRank</th>\n",
       "      <th>1996-04</th>\n",
       "      <th>1996-05</th>\n",
       "      <th>1996-06</th>\n",
       "      <th>...</th>\n",
       "      <th>2017-07</th>\n",
       "      <th>2017-08</th>\n",
       "      <th>2017-09</th>\n",
       "      <th>2017-10</th>\n",
       "      <th>2017-11</th>\n",
       "      <th>2017-12</th>\n",
       "      <th>2018-01</th>\n",
       "      <th>2018-02</th>\n",
       "      <th>2018-03</th>\n",
       "      <th>2018-04</th>\n",
       "    </tr>\n",
       "  </thead>\n",
       "  <tbody>\n",
       "    <tr>\n",
       "      <th>6</th>\n",
       "      <td>61807</td>\n",
       "      <td>10467</td>\n",
       "      <td>New York</td>\n",
       "      <td>NY</td>\n",
       "      <td>New York</td>\n",
       "      <td>Bronx</td>\n",
       "      <td>7</td>\n",
       "      <td>152900.0</td>\n",
       "      <td>152700.0</td>\n",
       "      <td>152600.0</td>\n",
       "      <td>...</td>\n",
       "      <td>394400</td>\n",
       "      <td>400000</td>\n",
       "      <td>407300</td>\n",
       "      <td>411600</td>\n",
       "      <td>413200</td>\n",
       "      <td>414300</td>\n",
       "      <td>413900</td>\n",
       "      <td>411400</td>\n",
       "      <td>413200</td>\n",
       "      <td>417900</td>\n",
       "    </tr>\n",
       "    <tr>\n",
       "      <th>10</th>\n",
       "      <td>62037</td>\n",
       "      <td>11226</td>\n",
       "      <td>New York</td>\n",
       "      <td>NY</td>\n",
       "      <td>New York</td>\n",
       "      <td>Kings</td>\n",
       "      <td>11</td>\n",
       "      <td>162000.0</td>\n",
       "      <td>162300.0</td>\n",
       "      <td>162600.0</td>\n",
       "      <td>...</td>\n",
       "      <td>860200</td>\n",
       "      <td>851000</td>\n",
       "      <td>853900</td>\n",
       "      <td>870000</td>\n",
       "      <td>885100</td>\n",
       "      <td>887800</td>\n",
       "      <td>890500</td>\n",
       "      <td>901700</td>\n",
       "      <td>930700</td>\n",
       "      <td>963200</td>\n",
       "    </tr>\n",
       "    <tr>\n",
       "      <th>12</th>\n",
       "      <td>62087</td>\n",
       "      <td>11375</td>\n",
       "      <td>New York</td>\n",
       "      <td>NY</td>\n",
       "      <td>New York</td>\n",
       "      <td>Queens</td>\n",
       "      <td>13</td>\n",
       "      <td>252400.0</td>\n",
       "      <td>251800.0</td>\n",
       "      <td>251400.0</td>\n",
       "      <td>...</td>\n",
       "      <td>1022600</td>\n",
       "      <td>1033700</td>\n",
       "      <td>1048600</td>\n",
       "      <td>1066400</td>\n",
       "      <td>1081200</td>\n",
       "      <td>1088800</td>\n",
       "      <td>1092700</td>\n",
       "      <td>1089500</td>\n",
       "      <td>1084000</td>\n",
       "      <td>1084600</td>\n",
       "    </tr>\n",
       "    <tr>\n",
       "      <th>13</th>\n",
       "      <td>62045</td>\n",
       "      <td>11235</td>\n",
       "      <td>New York</td>\n",
       "      <td>NY</td>\n",
       "      <td>New York</td>\n",
       "      <td>Kings</td>\n",
       "      <td>14</td>\n",
       "      <td>190500.0</td>\n",
       "      <td>191000.0</td>\n",
       "      <td>191500.0</td>\n",
       "      <td>...</td>\n",
       "      <td>767300</td>\n",
       "      <td>777300</td>\n",
       "      <td>788800</td>\n",
       "      <td>793900</td>\n",
       "      <td>796000</td>\n",
       "      <td>799700</td>\n",
       "      <td>806600</td>\n",
       "      <td>810600</td>\n",
       "      <td>813400</td>\n",
       "      <td>816200</td>\n",
       "    </tr>\n",
       "    <tr>\n",
       "      <th>20</th>\n",
       "      <td>61625</td>\n",
       "      <td>10011</td>\n",
       "      <td>New York</td>\n",
       "      <td>NY</td>\n",
       "      <td>New York</td>\n",
       "      <td>New York</td>\n",
       "      <td>21</td>\n",
       "      <td>NaN</td>\n",
       "      <td>NaN</td>\n",
       "      <td>NaN</td>\n",
       "      <td>...</td>\n",
       "      <td>12137600</td>\n",
       "      <td>12112600</td>\n",
       "      <td>12036600</td>\n",
       "      <td>12050100</td>\n",
       "      <td>12016300</td>\n",
       "      <td>11946500</td>\n",
       "      <td>11978100</td>\n",
       "      <td>11849300</td>\n",
       "      <td>11563000</td>\n",
       "      <td>11478300</td>\n",
       "    </tr>\n",
       "    <tr>\n",
       "      <th>...</th>\n",
       "      <td>...</td>\n",
       "      <td>...</td>\n",
       "      <td>...</td>\n",
       "      <td>...</td>\n",
       "      <td>...</td>\n",
       "      <td>...</td>\n",
       "      <td>...</td>\n",
       "      <td>...</td>\n",
       "      <td>...</td>\n",
       "      <td>...</td>\n",
       "      <td>...</td>\n",
       "      <td>...</td>\n",
       "      <td>...</td>\n",
       "      <td>...</td>\n",
       "      <td>...</td>\n",
       "      <td>...</td>\n",
       "      <td>...</td>\n",
       "      <td>...</td>\n",
       "      <td>...</td>\n",
       "      <td>...</td>\n",
       "      <td>...</td>\n",
       "    </tr>\n",
       "    <tr>\n",
       "      <th>14513</th>\n",
       "      <td>62305</td>\n",
       "      <td>11958</td>\n",
       "      <td>Peconic</td>\n",
       "      <td>NY</td>\n",
       "      <td>New York</td>\n",
       "      <td>Suffolk</td>\n",
       "      <td>14514</td>\n",
       "      <td>177400.0</td>\n",
       "      <td>177200.0</td>\n",
       "      <td>176900.0</td>\n",
       "      <td>...</td>\n",
       "      <td>673600</td>\n",
       "      <td>679300</td>\n",
       "      <td>675900</td>\n",
       "      <td>671400</td>\n",
       "      <td>684900</td>\n",
       "      <td>699900</td>\n",
       "      <td>700100</td>\n",
       "      <td>693200</td>\n",
       "      <td>687200</td>\n",
       "      <td>678400</td>\n",
       "    </tr>\n",
       "    <tr>\n",
       "      <th>14530</th>\n",
       "      <td>61831</td>\n",
       "      <td>10518</td>\n",
       "      <td>Lewisboro</td>\n",
       "      <td>NY</td>\n",
       "      <td>New York</td>\n",
       "      <td>Westchester</td>\n",
       "      <td>14531</td>\n",
       "      <td>341700.0</td>\n",
       "      <td>339700.0</td>\n",
       "      <td>337600.0</td>\n",
       "      <td>...</td>\n",
       "      <td>596000</td>\n",
       "      <td>603600</td>\n",
       "      <td>610100</td>\n",
       "      <td>617600</td>\n",
       "      <td>607200</td>\n",
       "      <td>587000</td>\n",
       "      <td>570100</td>\n",
       "      <td>554400</td>\n",
       "      <td>546700</td>\n",
       "      <td>556700</td>\n",
       "    </tr>\n",
       "    <tr>\n",
       "      <th>14535</th>\n",
       "      <td>62218</td>\n",
       "      <td>11739</td>\n",
       "      <td>Islip</td>\n",
       "      <td>NY</td>\n",
       "      <td>New York</td>\n",
       "      <td>Suffolk</td>\n",
       "      <td>14536</td>\n",
       "      <td>235000.0</td>\n",
       "      <td>235700.0</td>\n",
       "      <td>236500.0</td>\n",
       "      <td>...</td>\n",
       "      <td>527200</td>\n",
       "      <td>510200</td>\n",
       "      <td>495800</td>\n",
       "      <td>488400</td>\n",
       "      <td>485700</td>\n",
       "      <td>487100</td>\n",
       "      <td>487100</td>\n",
       "      <td>487900</td>\n",
       "      <td>486100</td>\n",
       "      <td>482900</td>\n",
       "    </tr>\n",
       "    <tr>\n",
       "      <th>14567</th>\n",
       "      <td>61948</td>\n",
       "      <td>10964</td>\n",
       "      <td>Orangetown</td>\n",
       "      <td>NY</td>\n",
       "      <td>New York</td>\n",
       "      <td>Rockland</td>\n",
       "      <td>14568</td>\n",
       "      <td>261200.0</td>\n",
       "      <td>262400.0</td>\n",
       "      <td>263400.0</td>\n",
       "      <td>...</td>\n",
       "      <td>631700</td>\n",
       "      <td>629800</td>\n",
       "      <td>624000</td>\n",
       "      <td>622300</td>\n",
       "      <td>622400</td>\n",
       "      <td>624300</td>\n",
       "      <td>625100</td>\n",
       "      <td>628000</td>\n",
       "      <td>634100</td>\n",
       "      <td>643000</td>\n",
       "    </tr>\n",
       "    <tr>\n",
       "      <th>14620</th>\n",
       "      <td>61817</td>\n",
       "      <td>10501</td>\n",
       "      <td>Somers</td>\n",
       "      <td>NY</td>\n",
       "      <td>New York</td>\n",
       "      <td>Westchester</td>\n",
       "      <td>14621</td>\n",
       "      <td>288000.0</td>\n",
       "      <td>288400.0</td>\n",
       "      <td>288900.0</td>\n",
       "      <td>...</td>\n",
       "      <td>600300</td>\n",
       "      <td>603700</td>\n",
       "      <td>605900</td>\n",
       "      <td>605200</td>\n",
       "      <td>603700</td>\n",
       "      <td>602300</td>\n",
       "      <td>602800</td>\n",
       "      <td>598800</td>\n",
       "      <td>594500</td>\n",
       "      <td>595400</td>\n",
       "    </tr>\n",
       "  </tbody>\n",
       "</table>\n",
       "<p>779 rows × 272 columns</p>\n",
       "</div>"
      ],
      "text/plain": [
       "       RegionID  RegionName        City State     Metro   CountyName  \\\n",
       "6         61807       10467    New York    NY  New York        Bronx   \n",
       "10        62037       11226    New York    NY  New York        Kings   \n",
       "12        62087       11375    New York    NY  New York       Queens   \n",
       "13        62045       11235    New York    NY  New York        Kings   \n",
       "20        61625       10011    New York    NY  New York     New York   \n",
       "...         ...         ...         ...   ...       ...          ...   \n",
       "14513     62305       11958     Peconic    NY  New York      Suffolk   \n",
       "14530     61831       10518   Lewisboro    NY  New York  Westchester   \n",
       "14535     62218       11739       Islip    NY  New York      Suffolk   \n",
       "14567     61948       10964  Orangetown    NY  New York     Rockland   \n",
       "14620     61817       10501      Somers    NY  New York  Westchester   \n",
       "\n",
       "       SizeRank   1996-04   1996-05   1996-06  ...   2017-07   2017-08  \\\n",
       "6             7  152900.0  152700.0  152600.0  ...    394400    400000   \n",
       "10           11  162000.0  162300.0  162600.0  ...    860200    851000   \n",
       "12           13  252400.0  251800.0  251400.0  ...   1022600   1033700   \n",
       "13           14  190500.0  191000.0  191500.0  ...    767300    777300   \n",
       "20           21       NaN       NaN       NaN  ...  12137600  12112600   \n",
       "...         ...       ...       ...       ...  ...       ...       ...   \n",
       "14513     14514  177400.0  177200.0  176900.0  ...    673600    679300   \n",
       "14530     14531  341700.0  339700.0  337600.0  ...    596000    603600   \n",
       "14535     14536  235000.0  235700.0  236500.0  ...    527200    510200   \n",
       "14567     14568  261200.0  262400.0  263400.0  ...    631700    629800   \n",
       "14620     14621  288000.0  288400.0  288900.0  ...    600300    603700   \n",
       "\n",
       "        2017-09   2017-10   2017-11   2017-12   2018-01   2018-02   2018-03  \\\n",
       "6        407300    411600    413200    414300    413900    411400    413200   \n",
       "10       853900    870000    885100    887800    890500    901700    930700   \n",
       "12      1048600   1066400   1081200   1088800   1092700   1089500   1084000   \n",
       "13       788800    793900    796000    799700    806600    810600    813400   \n",
       "20     12036600  12050100  12016300  11946500  11978100  11849300  11563000   \n",
       "...         ...       ...       ...       ...       ...       ...       ...   \n",
       "14513    675900    671400    684900    699900    700100    693200    687200   \n",
       "14530    610100    617600    607200    587000    570100    554400    546700   \n",
       "14535    495800    488400    485700    487100    487100    487900    486100   \n",
       "14567    624000    622300    622400    624300    625100    628000    634100   \n",
       "14620    605900    605200    603700    602300    602800    598800    594500   \n",
       "\n",
       "        2018-04  \n",
       "6        417900  \n",
       "10       963200  \n",
       "12      1084600  \n",
       "13       816200  \n",
       "20     11478300  \n",
       "...         ...  \n",
       "14513    678400  \n",
       "14530    556700  \n",
       "14535    482900  \n",
       "14567    643000  \n",
       "14620    595400  \n",
       "\n",
       "[779 rows x 272 columns]"
      ]
     },
     "execution_count": 3,
     "metadata": {},
     "output_type": "execute_result"
    }
   ],
   "source": [
    "ny = df[df['Metro'] == 'New York']\n",
    "ny"
   ]
  },
  {
   "cell_type": "code",
   "execution_count": 4,
   "metadata": {
    "scrolled": true
   },
   "outputs": [
    {
     "data": {
      "text/plain": [
       "Suffolk        89\n",
       "Bergen         65\n",
       "Nassau         63\n",
       "Westchester    61\n",
       "Queens         55\n",
       "Monmouth       47\n",
       "Morris         43\n",
       "Middlesex      34\n",
       "Orange         30\n",
       "Ocean          29\n",
       "Kings          28\n",
       "Union          26\n",
       "Passaic        25\n",
       "Essex          25\n",
       "Dutchess       25\n",
       "Rockland       23\n",
       "Somerset       21\n",
       "Hunterdon      18\n",
       "Sussex         15\n",
       "Bronx          13\n",
       "Hudson         13\n",
       "Richmond       12\n",
       "Putnam          7\n",
       "Pike            6\n",
       "New York        6\n",
       "Name: CountyName, dtype: int64"
      ]
     },
     "execution_count": 4,
     "metadata": {},
     "output_type": "execute_result"
    }
   ],
   "source": [
    "ny['CountyName'].value_counts()"
   ]
  },
  {
   "cell_type": "code",
   "execution_count": 5,
   "metadata": {},
   "outputs": [
    {
     "data": {
      "text/html": [
       "<div>\n",
       "<style scoped>\n",
       "    .dataframe tbody tr th:only-of-type {\n",
       "        vertical-align: middle;\n",
       "    }\n",
       "\n",
       "    .dataframe tbody tr th {\n",
       "        vertical-align: top;\n",
       "    }\n",
       "\n",
       "    .dataframe thead th {\n",
       "        text-align: right;\n",
       "    }\n",
       "</style>\n",
       "<table border=\"1\" class=\"dataframe\">\n",
       "  <thead>\n",
       "    <tr style=\"text-align: right;\">\n",
       "      <th></th>\n",
       "      <th>RegionID</th>\n",
       "      <th>RegionName</th>\n",
       "      <th>City</th>\n",
       "      <th>State</th>\n",
       "      <th>Metro</th>\n",
       "      <th>CountyName</th>\n",
       "      <th>SizeRank</th>\n",
       "      <th>1996-04</th>\n",
       "      <th>1996-05</th>\n",
       "      <th>1996-06</th>\n",
       "      <th>...</th>\n",
       "      <th>2017-07</th>\n",
       "      <th>2017-08</th>\n",
       "      <th>2017-09</th>\n",
       "      <th>2017-10</th>\n",
       "      <th>2017-11</th>\n",
       "      <th>2017-12</th>\n",
       "      <th>2018-01</th>\n",
       "      <th>2018-02</th>\n",
       "      <th>2018-03</th>\n",
       "      <th>2018-04</th>\n",
       "    </tr>\n",
       "  </thead>\n",
       "  <tbody>\n",
       "    <tr>\n",
       "      <th>6</th>\n",
       "      <td>61807</td>\n",
       "      <td>10467</td>\n",
       "      <td>New York</td>\n",
       "      <td>NY</td>\n",
       "      <td>New York</td>\n",
       "      <td>Bronx</td>\n",
       "      <td>7</td>\n",
       "      <td>152900.0</td>\n",
       "      <td>152700.0</td>\n",
       "      <td>152600.0</td>\n",
       "      <td>...</td>\n",
       "      <td>394400</td>\n",
       "      <td>400000</td>\n",
       "      <td>407300</td>\n",
       "      <td>411600</td>\n",
       "      <td>413200</td>\n",
       "      <td>414300</td>\n",
       "      <td>413900</td>\n",
       "      <td>411400</td>\n",
       "      <td>413200</td>\n",
       "      <td>417900</td>\n",
       "    </tr>\n",
       "    <tr>\n",
       "      <th>10</th>\n",
       "      <td>62037</td>\n",
       "      <td>11226</td>\n",
       "      <td>New York</td>\n",
       "      <td>NY</td>\n",
       "      <td>New York</td>\n",
       "      <td>Kings</td>\n",
       "      <td>11</td>\n",
       "      <td>162000.0</td>\n",
       "      <td>162300.0</td>\n",
       "      <td>162600.0</td>\n",
       "      <td>...</td>\n",
       "      <td>860200</td>\n",
       "      <td>851000</td>\n",
       "      <td>853900</td>\n",
       "      <td>870000</td>\n",
       "      <td>885100</td>\n",
       "      <td>887800</td>\n",
       "      <td>890500</td>\n",
       "      <td>901700</td>\n",
       "      <td>930700</td>\n",
       "      <td>963200</td>\n",
       "    </tr>\n",
       "    <tr>\n",
       "      <th>12</th>\n",
       "      <td>62087</td>\n",
       "      <td>11375</td>\n",
       "      <td>New York</td>\n",
       "      <td>NY</td>\n",
       "      <td>New York</td>\n",
       "      <td>Queens</td>\n",
       "      <td>13</td>\n",
       "      <td>252400.0</td>\n",
       "      <td>251800.0</td>\n",
       "      <td>251400.0</td>\n",
       "      <td>...</td>\n",
       "      <td>1022600</td>\n",
       "      <td>1033700</td>\n",
       "      <td>1048600</td>\n",
       "      <td>1066400</td>\n",
       "      <td>1081200</td>\n",
       "      <td>1088800</td>\n",
       "      <td>1092700</td>\n",
       "      <td>1089500</td>\n",
       "      <td>1084000</td>\n",
       "      <td>1084600</td>\n",
       "    </tr>\n",
       "    <tr>\n",
       "      <th>13</th>\n",
       "      <td>62045</td>\n",
       "      <td>11235</td>\n",
       "      <td>New York</td>\n",
       "      <td>NY</td>\n",
       "      <td>New York</td>\n",
       "      <td>Kings</td>\n",
       "      <td>14</td>\n",
       "      <td>190500.0</td>\n",
       "      <td>191000.0</td>\n",
       "      <td>191500.0</td>\n",
       "      <td>...</td>\n",
       "      <td>767300</td>\n",
       "      <td>777300</td>\n",
       "      <td>788800</td>\n",
       "      <td>793900</td>\n",
       "      <td>796000</td>\n",
       "      <td>799700</td>\n",
       "      <td>806600</td>\n",
       "      <td>810600</td>\n",
       "      <td>813400</td>\n",
       "      <td>816200</td>\n",
       "    </tr>\n",
       "    <tr>\n",
       "      <th>20</th>\n",
       "      <td>61625</td>\n",
       "      <td>10011</td>\n",
       "      <td>New York</td>\n",
       "      <td>NY</td>\n",
       "      <td>New York</td>\n",
       "      <td>New York</td>\n",
       "      <td>21</td>\n",
       "      <td>NaN</td>\n",
       "      <td>NaN</td>\n",
       "      <td>NaN</td>\n",
       "      <td>...</td>\n",
       "      <td>12137600</td>\n",
       "      <td>12112600</td>\n",
       "      <td>12036600</td>\n",
       "      <td>12050100</td>\n",
       "      <td>12016300</td>\n",
       "      <td>11946500</td>\n",
       "      <td>11978100</td>\n",
       "      <td>11849300</td>\n",
       "      <td>11563000</td>\n",
       "      <td>11478300</td>\n",
       "    </tr>\n",
       "    <tr>\n",
       "      <th>...</th>\n",
       "      <td>...</td>\n",
       "      <td>...</td>\n",
       "      <td>...</td>\n",
       "      <td>...</td>\n",
       "      <td>...</td>\n",
       "      <td>...</td>\n",
       "      <td>...</td>\n",
       "      <td>...</td>\n",
       "      <td>...</td>\n",
       "      <td>...</td>\n",
       "      <td>...</td>\n",
       "      <td>...</td>\n",
       "      <td>...</td>\n",
       "      <td>...</td>\n",
       "      <td>...</td>\n",
       "      <td>...</td>\n",
       "      <td>...</td>\n",
       "      <td>...</td>\n",
       "      <td>...</td>\n",
       "      <td>...</td>\n",
       "      <td>...</td>\n",
       "    </tr>\n",
       "    <tr>\n",
       "      <th>8008</th>\n",
       "      <td>62122</td>\n",
       "      <td>11436</td>\n",
       "      <td>New York</td>\n",
       "      <td>NY</td>\n",
       "      <td>New York</td>\n",
       "      <td>Queens</td>\n",
       "      <td>8009</td>\n",
       "      <td>119000.0</td>\n",
       "      <td>119400.0</td>\n",
       "      <td>119900.0</td>\n",
       "      <td>...</td>\n",
       "      <td>383800</td>\n",
       "      <td>382200</td>\n",
       "      <td>381000</td>\n",
       "      <td>382500</td>\n",
       "      <td>385600</td>\n",
       "      <td>387600</td>\n",
       "      <td>388700</td>\n",
       "      <td>390600</td>\n",
       "      <td>395100</td>\n",
       "      <td>400300</td>\n",
       "    </tr>\n",
       "    <tr>\n",
       "      <th>8303</th>\n",
       "      <td>62078</td>\n",
       "      <td>11366</td>\n",
       "      <td>New York</td>\n",
       "      <td>NY</td>\n",
       "      <td>New York</td>\n",
       "      <td>Queens</td>\n",
       "      <td>8304</td>\n",
       "      <td>231800.0</td>\n",
       "      <td>232000.0</td>\n",
       "      <td>232300.0</td>\n",
       "      <td>...</td>\n",
       "      <td>830000</td>\n",
       "      <td>839100</td>\n",
       "      <td>847800</td>\n",
       "      <td>854900</td>\n",
       "      <td>859600</td>\n",
       "      <td>861700</td>\n",
       "      <td>865600</td>\n",
       "      <td>871900</td>\n",
       "      <td>882700</td>\n",
       "      <td>893600</td>\n",
       "    </tr>\n",
       "    <tr>\n",
       "      <th>8387</th>\n",
       "      <td>61783</td>\n",
       "      <td>10307</td>\n",
       "      <td>New York</td>\n",
       "      <td>NY</td>\n",
       "      <td>New York</td>\n",
       "      <td>Richmond</td>\n",
       "      <td>8388</td>\n",
       "      <td>186700.0</td>\n",
       "      <td>186800.0</td>\n",
       "      <td>186900.0</td>\n",
       "      <td>...</td>\n",
       "      <td>522000</td>\n",
       "      <td>525600</td>\n",
       "      <td>527900</td>\n",
       "      <td>533800</td>\n",
       "      <td>543300</td>\n",
       "      <td>550800</td>\n",
       "      <td>559300</td>\n",
       "      <td>566900</td>\n",
       "      <td>571600</td>\n",
       "      <td>575900</td>\n",
       "    </tr>\n",
       "    <tr>\n",
       "      <th>9911</th>\n",
       "      <td>62075</td>\n",
       "      <td>11363</td>\n",
       "      <td>New York</td>\n",
       "      <td>NY</td>\n",
       "      <td>New York</td>\n",
       "      <td>Queens</td>\n",
       "      <td>9912</td>\n",
       "      <td>295000.0</td>\n",
       "      <td>296200.0</td>\n",
       "      <td>297700.0</td>\n",
       "      <td>...</td>\n",
       "      <td>1032000</td>\n",
       "      <td>1043700</td>\n",
       "      <td>1049800</td>\n",
       "      <td>1047900</td>\n",
       "      <td>1041200</td>\n",
       "      <td>1035400</td>\n",
       "      <td>1040700</td>\n",
       "      <td>1048600</td>\n",
       "      <td>1052100</td>\n",
       "      <td>1051300</td>\n",
       "    </tr>\n",
       "    <tr>\n",
       "      <th>11037</th>\n",
       "      <td>61804</td>\n",
       "      <td>10464</td>\n",
       "      <td>New York</td>\n",
       "      <td>NY</td>\n",
       "      <td>New York</td>\n",
       "      <td>Bronx</td>\n",
       "      <td>11038</td>\n",
       "      <td>195900.0</td>\n",
       "      <td>195600.0</td>\n",
       "      <td>195100.0</td>\n",
       "      <td>...</td>\n",
       "      <td>513100</td>\n",
       "      <td>518200</td>\n",
       "      <td>526100</td>\n",
       "      <td>532000</td>\n",
       "      <td>533100</td>\n",
       "      <td>533100</td>\n",
       "      <td>534400</td>\n",
       "      <td>533300</td>\n",
       "      <td>533000</td>\n",
       "      <td>536200</td>\n",
       "    </tr>\n",
       "  </tbody>\n",
       "</table>\n",
       "<p>114 rows × 272 columns</p>\n",
       "</div>"
      ],
      "text/plain": [
       "       RegionID  RegionName      City State     Metro CountyName  SizeRank  \\\n",
       "6         61807       10467  New York    NY  New York      Bronx         7   \n",
       "10        62037       11226  New York    NY  New York      Kings        11   \n",
       "12        62087       11375  New York    NY  New York     Queens        13   \n",
       "13        62045       11235  New York    NY  New York      Kings        14   \n",
       "20        61625       10011  New York    NY  New York   New York        21   \n",
       "...         ...         ...       ...   ...       ...        ...       ...   \n",
       "8008      62122       11436  New York    NY  New York     Queens      8009   \n",
       "8303      62078       11366  New York    NY  New York     Queens      8304   \n",
       "8387      61783       10307  New York    NY  New York   Richmond      8388   \n",
       "9911      62075       11363  New York    NY  New York     Queens      9912   \n",
       "11037     61804       10464  New York    NY  New York      Bronx     11038   \n",
       "\n",
       "        1996-04   1996-05   1996-06  ...   2017-07   2017-08   2017-09  \\\n",
       "6      152900.0  152700.0  152600.0  ...    394400    400000    407300   \n",
       "10     162000.0  162300.0  162600.0  ...    860200    851000    853900   \n",
       "12     252400.0  251800.0  251400.0  ...   1022600   1033700   1048600   \n",
       "13     190500.0  191000.0  191500.0  ...    767300    777300    788800   \n",
       "20          NaN       NaN       NaN  ...  12137600  12112600  12036600   \n",
       "...         ...       ...       ...  ...       ...       ...       ...   \n",
       "8008   119000.0  119400.0  119900.0  ...    383800    382200    381000   \n",
       "8303   231800.0  232000.0  232300.0  ...    830000    839100    847800   \n",
       "8387   186700.0  186800.0  186900.0  ...    522000    525600    527900   \n",
       "9911   295000.0  296200.0  297700.0  ...   1032000   1043700   1049800   \n",
       "11037  195900.0  195600.0  195100.0  ...    513100    518200    526100   \n",
       "\n",
       "        2017-10   2017-11   2017-12   2018-01   2018-02   2018-03   2018-04  \n",
       "6        411600    413200    414300    413900    411400    413200    417900  \n",
       "10       870000    885100    887800    890500    901700    930700    963200  \n",
       "12      1066400   1081200   1088800   1092700   1089500   1084000   1084600  \n",
       "13       793900    796000    799700    806600    810600    813400    816200  \n",
       "20     12050100  12016300  11946500  11978100  11849300  11563000  11478300  \n",
       "...         ...       ...       ...       ...       ...       ...       ...  \n",
       "8008     382500    385600    387600    388700    390600    395100    400300  \n",
       "8303     854900    859600    861700    865600    871900    882700    893600  \n",
       "8387     533800    543300    550800    559300    566900    571600    575900  \n",
       "9911    1047900   1041200   1035400   1040700   1048600   1052100   1051300  \n",
       "11037    532000    533100    533100    534400    533300    533000    536200  \n",
       "\n",
       "[114 rows x 272 columns]"
      ]
     },
     "execution_count": 5,
     "metadata": {},
     "output_type": "execute_result"
    }
   ],
   "source": [
    "nyc_df = df[df['City'] == 'New York']\n",
    "nyc_df"
   ]
  },
  {
   "cell_type": "code",
   "execution_count": 6,
   "metadata": {},
   "outputs": [
    {
     "data": {
      "text/plain": [
       "array(['Bronx', 'Kings', 'Queens', 'New York', 'Richmond'], dtype=object)"
      ]
     },
     "execution_count": 6,
     "metadata": {},
     "output_type": "execute_result"
    }
   ],
   "source": [
    "nyc_df['CountyName'].unique()"
   ]
  },
  {
   "cell_type": "markdown",
   "metadata": {},
   "source": [
    "The counties that we are going to be focused on will be Queens, Kings, Bronx, Richmond and New York."
   ]
  },
  {
   "cell_type": "markdown",
   "metadata": {},
   "source": [
    "# Data Exploration\n",
    "\n",
    "## Preprocessing"
   ]
  },
  {
   "cell_type": "code",
   "execution_count": 7,
   "metadata": {},
   "outputs": [
    {
     "name": "stdout",
     "output_type": "stream",
     "text": [
      "<class 'pandas.core.frame.DataFrame'>\n",
      "Int64Index: 114 entries, 6 to 11037\n",
      "Data columns (total 272 columns):\n",
      " #   Column      Dtype  \n",
      "---  ------      -----  \n",
      " 0   RegionID    int64  \n",
      " 1   RegionName  int64  \n",
      " 2   City        object \n",
      " 3   State       object \n",
      " 4   Metro       object \n",
      " 5   CountyName  object \n",
      " 6   SizeRank    int64  \n",
      " 7   1996-04     float64\n",
      " 8   1996-05     float64\n",
      " 9   1996-06     float64\n",
      " 10  1996-07     float64\n",
      " 11  1996-08     float64\n",
      " 12  1996-09     float64\n",
      " 13  1996-10     float64\n",
      " 14  1996-11     float64\n",
      " 15  1996-12     float64\n",
      " 16  1997-01     float64\n",
      " 17  1997-02     float64\n",
      " 18  1997-03     float64\n",
      " 19  1997-04     float64\n",
      " 20  1997-05     float64\n",
      " 21  1997-06     float64\n",
      " 22  1997-07     float64\n",
      " 23  1997-08     float64\n",
      " 24  1997-09     float64\n",
      " 25  1997-10     float64\n",
      " 26  1997-11     float64\n",
      " 27  1997-12     float64\n",
      " 28  1998-01     float64\n",
      " 29  1998-02     float64\n",
      " 30  1998-03     float64\n",
      " 31  1998-04     float64\n",
      " 32  1998-05     float64\n",
      " 33  1998-06     float64\n",
      " 34  1998-07     float64\n",
      " 35  1998-08     float64\n",
      " 36  1998-09     float64\n",
      " 37  1998-10     float64\n",
      " 38  1998-11     float64\n",
      " 39  1998-12     float64\n",
      " 40  1999-01     float64\n",
      " 41  1999-02     float64\n",
      " 42  1999-03     float64\n",
      " 43  1999-04     float64\n",
      " 44  1999-05     float64\n",
      " 45  1999-06     float64\n",
      " 46  1999-07     float64\n",
      " 47  1999-08     float64\n",
      " 48  1999-09     float64\n",
      " 49  1999-10     float64\n",
      " 50  1999-11     float64\n",
      " 51  1999-12     float64\n",
      " 52  2000-01     float64\n",
      " 53  2000-02     float64\n",
      " 54  2000-03     float64\n",
      " 55  2000-04     float64\n",
      " 56  2000-05     float64\n",
      " 57  2000-06     float64\n",
      " 58  2000-07     float64\n",
      " 59  2000-08     float64\n",
      " 60  2000-09     float64\n",
      " 61  2000-10     float64\n",
      " 62  2000-11     float64\n",
      " 63  2000-12     float64\n",
      " 64  2001-01     float64\n",
      " 65  2001-02     float64\n",
      " 66  2001-03     float64\n",
      " 67  2001-04     float64\n",
      " 68  2001-05     float64\n",
      " 69  2001-06     float64\n",
      " 70  2001-07     float64\n",
      " 71  2001-08     float64\n",
      " 72  2001-09     float64\n",
      " 73  2001-10     float64\n",
      " 74  2001-11     float64\n",
      " 75  2001-12     float64\n",
      " 76  2002-01     float64\n",
      " 77  2002-02     float64\n",
      " 78  2002-03     float64\n",
      " 79  2002-04     float64\n",
      " 80  2002-05     float64\n",
      " 81  2002-06     float64\n",
      " 82  2002-07     float64\n",
      " 83  2002-08     float64\n",
      " 84  2002-09     float64\n",
      " 85  2002-10     float64\n",
      " 86  2002-11     float64\n",
      " 87  2002-12     float64\n",
      " 88  2003-01     float64\n",
      " 89  2003-02     float64\n",
      " 90  2003-03     float64\n",
      " 91  2003-04     float64\n",
      " 92  2003-05     float64\n",
      " 93  2003-06     float64\n",
      " 94  2003-07     float64\n",
      " 95  2003-08     float64\n",
      " 96  2003-09     float64\n",
      " 97  2003-10     float64\n",
      " 98  2003-11     float64\n",
      " 99  2003-12     float64\n",
      " 100 2004-01     float64\n",
      " 101 2004-02     float64\n",
      " 102 2004-03     float64\n",
      " 103 2004-04     float64\n",
      " 104 2004-05     float64\n",
      " 105 2004-06     float64\n",
      " 106 2004-07     float64\n",
      " 107 2004-08     float64\n",
      " 108 2004-09     float64\n",
      " 109 2004-10     float64\n",
      " 110 2004-11     float64\n",
      " 111 2004-12     float64\n",
      " 112 2005-01     float64\n",
      " 113 2005-02     float64\n",
      " 114 2005-03     float64\n",
      " 115 2005-04     float64\n",
      " 116 2005-05     float64\n",
      " 117 2005-06     float64\n",
      " 118 2005-07     float64\n",
      " 119 2005-08     float64\n",
      " 120 2005-09     float64\n",
      " 121 2005-10     float64\n",
      " 122 2005-11     float64\n",
      " 123 2005-12     float64\n",
      " 124 2006-01     float64\n",
      " 125 2006-02     float64\n",
      " 126 2006-03     float64\n",
      " 127 2006-04     float64\n",
      " 128 2006-05     float64\n",
      " 129 2006-06     float64\n",
      " 130 2006-07     float64\n",
      " 131 2006-08     float64\n",
      " 132 2006-09     float64\n",
      " 133 2006-10     float64\n",
      " 134 2006-11     float64\n",
      " 135 2006-12     float64\n",
      " 136 2007-01     float64\n",
      " 137 2007-02     float64\n",
      " 138 2007-03     float64\n",
      " 139 2007-04     float64\n",
      " 140 2007-05     float64\n",
      " 141 2007-06     float64\n",
      " 142 2007-07     float64\n",
      " 143 2007-08     float64\n",
      " 144 2007-09     float64\n",
      " 145 2007-10     float64\n",
      " 146 2007-11     float64\n",
      " 147 2007-12     float64\n",
      " 148 2008-01     float64\n",
      " 149 2008-02     float64\n",
      " 150 2008-03     float64\n",
      " 151 2008-04     float64\n",
      " 152 2008-05     float64\n",
      " 153 2008-06     float64\n",
      " 154 2008-07     float64\n",
      " 155 2008-08     float64\n",
      " 156 2008-09     float64\n",
      " 157 2008-10     float64\n",
      " 158 2008-11     float64\n",
      " 159 2008-12     float64\n",
      " 160 2009-01     float64\n",
      " 161 2009-02     float64\n",
      " 162 2009-03     float64\n",
      " 163 2009-04     float64\n",
      " 164 2009-05     float64\n",
      " 165 2009-06     float64\n",
      " 166 2009-07     float64\n",
      " 167 2009-08     float64\n",
      " 168 2009-09     float64\n",
      " 169 2009-10     float64\n",
      " 170 2009-11     float64\n",
      " 171 2009-12     float64\n",
      " 172 2010-01     float64\n",
      " 173 2010-02     float64\n",
      " 174 2010-03     float64\n",
      " 175 2010-04     float64\n",
      " 176 2010-05     float64\n",
      " 177 2010-06     float64\n",
      " 178 2010-07     float64\n",
      " 179 2010-08     float64\n",
      " 180 2010-09     float64\n",
      " 181 2010-10     float64\n",
      " 182 2010-11     float64\n",
      " 183 2010-12     float64\n",
      " 184 2011-01     float64\n",
      " 185 2011-02     float64\n",
      " 186 2011-03     float64\n",
      " 187 2011-04     float64\n",
      " 188 2011-05     float64\n",
      " 189 2011-06     float64\n",
      " 190 2011-07     float64\n",
      " 191 2011-08     float64\n",
      " 192 2011-09     float64\n",
      " 193 2011-10     float64\n",
      " 194 2011-11     float64\n",
      " 195 2011-12     float64\n",
      " 196 2012-01     float64\n",
      " 197 2012-02     float64\n",
      " 198 2012-03     float64\n",
      " 199 2012-04     float64\n",
      " 200 2012-05     float64\n",
      " 201 2012-06     float64\n",
      " 202 2012-07     float64\n",
      " 203 2012-08     float64\n",
      " 204 2012-09     float64\n",
      " 205 2012-10     float64\n",
      " 206 2012-11     float64\n",
      " 207 2012-12     float64\n",
      " 208 2013-01     float64\n",
      " 209 2013-02     float64\n",
      " 210 2013-03     float64\n",
      " 211 2013-04     float64\n",
      " 212 2013-05     float64\n",
      " 213 2013-06     float64\n",
      " 214 2013-07     float64\n",
      " 215 2013-08     float64\n",
      " 216 2013-09     float64\n",
      " 217 2013-10     float64\n",
      " 218 2013-11     float64\n",
      " 219 2013-12     float64\n",
      " 220 2014-01     float64\n",
      " 221 2014-02     float64\n",
      " 222 2014-03     float64\n",
      " 223 2014-04     float64\n",
      " 224 2014-05     float64\n",
      " 225 2014-06     float64\n",
      " 226 2014-07     int64  \n",
      " 227 2014-08     int64  \n",
      " 228 2014-09     int64  \n",
      " 229 2014-10     int64  \n",
      " 230 2014-11     int64  \n",
      " 231 2014-12     int64  \n",
      " 232 2015-01     int64  \n",
      " 233 2015-02     int64  \n",
      " 234 2015-03     int64  \n",
      " 235 2015-04     int64  \n",
      " 236 2015-05     int64  \n",
      " 237 2015-06     int64  \n",
      " 238 2015-07     int64  \n",
      " 239 2015-08     int64  \n",
      " 240 2015-09     int64  \n",
      " 241 2015-10     int64  \n",
      " 242 2015-11     int64  \n",
      " 243 2015-12     int64  \n",
      " 244 2016-01     int64  \n",
      " 245 2016-02     int64  \n",
      " 246 2016-03     int64  \n",
      " 247 2016-04     int64  \n",
      " 248 2016-05     int64  \n",
      " 249 2016-06     int64  \n",
      " 250 2016-07     int64  \n",
      " 251 2016-08     int64  \n",
      " 252 2016-09     int64  \n",
      " 253 2016-10     int64  \n",
      " 254 2016-11     int64  \n",
      " 255 2016-12     int64  \n",
      " 256 2017-01     int64  \n",
      " 257 2017-02     int64  \n",
      " 258 2017-03     int64  \n",
      " 259 2017-04     int64  \n",
      " 260 2017-05     int64  \n",
      " 261 2017-06     int64  \n",
      " 262 2017-07     int64  \n",
      " 263 2017-08     int64  \n",
      " 264 2017-09     int64  \n",
      " 265 2017-10     int64  \n",
      " 266 2017-11     int64  \n",
      " 267 2017-12     int64  \n",
      " 268 2018-01     int64  \n",
      " 269 2018-02     int64  \n",
      " 270 2018-03     int64  \n",
      " 271 2018-04     int64  \n",
      "dtypes: float64(219), int64(49), object(4)\n",
      "memory usage: 243.1+ KB\n"
     ]
    }
   ],
   "source": [
    "nyc_df.info(verbose=True)"
   ]
  },
  {
   "cell_type": "code",
   "execution_count": 8,
   "metadata": {},
   "outputs": [
    {
     "data": {
      "text/html": [
       "<div>\n",
       "<style scoped>\n",
       "    .dataframe tbody tr th:only-of-type {\n",
       "        vertical-align: middle;\n",
       "    }\n",
       "\n",
       "    .dataframe tbody tr th {\n",
       "        vertical-align: top;\n",
       "    }\n",
       "\n",
       "    .dataframe thead th {\n",
       "        text-align: right;\n",
       "    }\n",
       "</style>\n",
       "<table border=\"1\" class=\"dataframe\">\n",
       "  <thead>\n",
       "    <tr style=\"text-align: right;\">\n",
       "      <th></th>\n",
       "      <th>RegionName</th>\n",
       "      <th>RegionID</th>\n",
       "      <th>SizeRank</th>\n",
       "      <th>City</th>\n",
       "      <th>State</th>\n",
       "      <th>Metro</th>\n",
       "      <th>CountyName</th>\n",
       "      <th>time</th>\n",
       "      <th>value</th>\n",
       "    </tr>\n",
       "  </thead>\n",
       "  <tbody>\n",
       "    <tr>\n",
       "      <th>0</th>\n",
       "      <td>10467</td>\n",
       "      <td>61807</td>\n",
       "      <td>7</td>\n",
       "      <td>New York</td>\n",
       "      <td>NY</td>\n",
       "      <td>New York</td>\n",
       "      <td>Bronx</td>\n",
       "      <td>1996-04-01</td>\n",
       "      <td>152900.0</td>\n",
       "    </tr>\n",
       "    <tr>\n",
       "      <th>1</th>\n",
       "      <td>11226</td>\n",
       "      <td>62037</td>\n",
       "      <td>11</td>\n",
       "      <td>New York</td>\n",
       "      <td>NY</td>\n",
       "      <td>New York</td>\n",
       "      <td>Kings</td>\n",
       "      <td>1996-04-01</td>\n",
       "      <td>162000.0</td>\n",
       "    </tr>\n",
       "    <tr>\n",
       "      <th>2</th>\n",
       "      <td>11375</td>\n",
       "      <td>62087</td>\n",
       "      <td>13</td>\n",
       "      <td>New York</td>\n",
       "      <td>NY</td>\n",
       "      <td>New York</td>\n",
       "      <td>Queens</td>\n",
       "      <td>1996-04-01</td>\n",
       "      <td>252400.0</td>\n",
       "    </tr>\n",
       "    <tr>\n",
       "      <th>3</th>\n",
       "      <td>11235</td>\n",
       "      <td>62045</td>\n",
       "      <td>14</td>\n",
       "      <td>New York</td>\n",
       "      <td>NY</td>\n",
       "      <td>New York</td>\n",
       "      <td>Kings</td>\n",
       "      <td>1996-04-01</td>\n",
       "      <td>190500.0</td>\n",
       "    </tr>\n",
       "    <tr>\n",
       "      <th>5</th>\n",
       "      <td>10128</td>\n",
       "      <td>61703</td>\n",
       "      <td>22</td>\n",
       "      <td>New York</td>\n",
       "      <td>NY</td>\n",
       "      <td>New York</td>\n",
       "      <td>New York</td>\n",
       "      <td>1996-04-01</td>\n",
       "      <td>3676700.0</td>\n",
       "    </tr>\n",
       "    <tr>\n",
       "      <th>...</th>\n",
       "      <td>...</td>\n",
       "      <td>...</td>\n",
       "      <td>...</td>\n",
       "      <td>...</td>\n",
       "      <td>...</td>\n",
       "      <td>...</td>\n",
       "      <td>...</td>\n",
       "      <td>...</td>\n",
       "      <td>...</td>\n",
       "    </tr>\n",
       "    <tr>\n",
       "      <th>30205</th>\n",
       "      <td>11436</td>\n",
       "      <td>62122</td>\n",
       "      <td>8009</td>\n",
       "      <td>New York</td>\n",
       "      <td>NY</td>\n",
       "      <td>New York</td>\n",
       "      <td>Queens</td>\n",
       "      <td>2018-04-01</td>\n",
       "      <td>400300.0</td>\n",
       "    </tr>\n",
       "    <tr>\n",
       "      <th>30206</th>\n",
       "      <td>11366</td>\n",
       "      <td>62078</td>\n",
       "      <td>8304</td>\n",
       "      <td>New York</td>\n",
       "      <td>NY</td>\n",
       "      <td>New York</td>\n",
       "      <td>Queens</td>\n",
       "      <td>2018-04-01</td>\n",
       "      <td>893600.0</td>\n",
       "    </tr>\n",
       "    <tr>\n",
       "      <th>30207</th>\n",
       "      <td>10307</td>\n",
       "      <td>61783</td>\n",
       "      <td>8388</td>\n",
       "      <td>New York</td>\n",
       "      <td>NY</td>\n",
       "      <td>New York</td>\n",
       "      <td>Richmond</td>\n",
       "      <td>2018-04-01</td>\n",
       "      <td>575900.0</td>\n",
       "    </tr>\n",
       "    <tr>\n",
       "      <th>30208</th>\n",
       "      <td>11363</td>\n",
       "      <td>62075</td>\n",
       "      <td>9912</td>\n",
       "      <td>New York</td>\n",
       "      <td>NY</td>\n",
       "      <td>New York</td>\n",
       "      <td>Queens</td>\n",
       "      <td>2018-04-01</td>\n",
       "      <td>1051300.0</td>\n",
       "    </tr>\n",
       "    <tr>\n",
       "      <th>30209</th>\n",
       "      <td>10464</td>\n",
       "      <td>61804</td>\n",
       "      <td>11038</td>\n",
       "      <td>New York</td>\n",
       "      <td>NY</td>\n",
       "      <td>New York</td>\n",
       "      <td>Bronx</td>\n",
       "      <td>2018-04-01</td>\n",
       "      <td>536200.0</td>\n",
       "    </tr>\n",
       "  </tbody>\n",
       "</table>\n",
       "<p>29058 rows × 9 columns</p>\n",
       "</div>"
      ],
      "text/plain": [
       "       RegionName  RegionID  SizeRank      City State     Metro CountyName  \\\n",
       "0           10467     61807         7  New York    NY  New York      Bronx   \n",
       "1           11226     62037        11  New York    NY  New York      Kings   \n",
       "2           11375     62087        13  New York    NY  New York     Queens   \n",
       "3           11235     62045        14  New York    NY  New York      Kings   \n",
       "5           10128     61703        22  New York    NY  New York   New York   \n",
       "...           ...       ...       ...       ...   ...       ...        ...   \n",
       "30205       11436     62122      8009  New York    NY  New York     Queens   \n",
       "30206       11366     62078      8304  New York    NY  New York     Queens   \n",
       "30207       10307     61783      8388  New York    NY  New York   Richmond   \n",
       "30208       11363     62075      9912  New York    NY  New York     Queens   \n",
       "30209       10464     61804     11038  New York    NY  New York      Bronx   \n",
       "\n",
       "            time      value  \n",
       "0     1996-04-01   152900.0  \n",
       "1     1996-04-01   162000.0  \n",
       "2     1996-04-01   252400.0  \n",
       "3     1996-04-01   190500.0  \n",
       "5     1996-04-01  3676700.0  \n",
       "...          ...        ...  \n",
       "30205 2018-04-01   400300.0  \n",
       "30206 2018-04-01   893600.0  \n",
       "30207 2018-04-01   575900.0  \n",
       "30208 2018-04-01  1051300.0  \n",
       "30209 2018-04-01   536200.0  \n",
       "\n",
       "[29058 rows x 9 columns]"
      ]
     },
     "execution_count": 8,
     "metadata": {},
     "output_type": "execute_result"
    }
   ],
   "source": [
    "melt_df = melt_data(nyc_df)\n",
    "melt_df"
   ]
  },
  {
   "cell_type": "code",
   "execution_count": 9,
   "metadata": {},
   "outputs": [
    {
     "name": "stdout",
     "output_type": "stream",
     "text": [
      "<class 'pandas.core.frame.DataFrame'>\n",
      "Int64Index: 29058 entries, 0 to 30209\n",
      "Data columns (total 9 columns):\n",
      " #   Column      Non-Null Count  Dtype         \n",
      "---  ------      --------------  -----         \n",
      " 0   RegionName  29058 non-null  int64         \n",
      " 1   RegionID    29058 non-null  int64         \n",
      " 2   SizeRank    29058 non-null  int64         \n",
      " 3   City        29058 non-null  object        \n",
      " 4   State       29058 non-null  object        \n",
      " 5   Metro       29058 non-null  object        \n",
      " 6   CountyName  29058 non-null  object        \n",
      " 7   time        29058 non-null  datetime64[ns]\n",
      " 8   value       29058 non-null  float64       \n",
      "dtypes: datetime64[ns](1), float64(1), int64(3), object(4)\n",
      "memory usage: 2.2+ MB\n"
     ]
    }
   ],
   "source": [
    "melt_df.info()"
   ]
  },
  {
   "cell_type": "code",
   "execution_count": 10,
   "metadata": {},
   "outputs": [
    {
     "data": {
      "text/plain": [
       "RegionName    0\n",
       "RegionID      0\n",
       "SizeRank      0\n",
       "City          0\n",
       "State         0\n",
       "Metro         0\n",
       "CountyName    0\n",
       "time          0\n",
       "value         0\n",
       "dtype: int64"
      ]
     },
     "execution_count": 10,
     "metadata": {},
     "output_type": "execute_result"
    }
   ],
   "source": [
    "melt_df.isna().sum()"
   ]
  },
  {
   "cell_type": "code",
   "execution_count": 11,
   "metadata": {},
   "outputs": [
    {
     "data": {
      "text/plain": [
       "RegionName    0\n",
       "RegionID      0\n",
       "SizeRank      0\n",
       "City          0\n",
       "State         0\n",
       "Metro         0\n",
       "CountyName    0\n",
       "time          0\n",
       "value         0\n",
       "dtype: int64"
      ]
     },
     "execution_count": 11,
     "metadata": {},
     "output_type": "execute_result"
    }
   ],
   "source": [
    "melt_df.isnull().sum()"
   ]
  },
  {
   "cell_type": "code",
   "execution_count": 12,
   "metadata": {},
   "outputs": [
    {
     "data": {
      "text/plain": [
       "False    29058\n",
       "dtype: int64"
      ]
     },
     "execution_count": 12,
     "metadata": {},
     "output_type": "execute_result"
    }
   ],
   "source": [
    "melt_df.duplicated().value_counts()"
   ]
  },
  {
   "cell_type": "code",
   "execution_count": 13,
   "metadata": {},
   "outputs": [],
   "source": [
    "melt_df.drop(columns=['RegionID','SizeRank', 'State', 'Metro'], axis = 1, inplace = True)\n",
    "nyc = melt_df.copy()"
   ]
  },
  {
   "cell_type": "code",
   "execution_count": 14,
   "metadata": {},
   "outputs": [],
   "source": [
    "nyc = nyc.rename({'RegionName':'Zipcode'}, axis = 'columns')"
   ]
  },
  {
   "cell_type": "code",
   "execution_count": 15,
   "metadata": {},
   "outputs": [
    {
     "data": {
      "text/plain": [
       "114"
      ]
     },
     "execution_count": 15,
     "metadata": {},
     "output_type": "execute_result"
    }
   ],
   "source": [
    "len(nyc.Zipcode.unique())"
   ]
  },
  {
   "cell_type": "code",
   "execution_count": 16,
   "metadata": {},
   "outputs": [
    {
     "data": {
      "text/plain": [
       "array(['Bronx', 'Kings', 'Queens', 'New York', 'Richmond'], dtype=object)"
      ]
     },
     "execution_count": 16,
     "metadata": {},
     "output_type": "execute_result"
    }
   ],
   "source": [
    "nyc['CountyName'].unique()"
   ]
  },
  {
   "cell_type": "code",
   "execution_count": 17,
   "metadata": {},
   "outputs": [],
   "source": [
    "nyc = nyc.rename({'CountyName':'Borough'}, axis = 'columns')"
   ]
  },
  {
   "cell_type": "code",
   "execution_count": 18,
   "metadata": {},
   "outputs": [],
   "source": [
    "nyc['Borough'].replace({'Kings': 'Brooklyn', 'Richmond': 'Staten Island', 'New York': 'Manhattan'}, inplace = True)"
   ]
  },
  {
   "cell_type": "code",
   "execution_count": 19,
   "metadata": {},
   "outputs": [],
   "source": [
    "nyc.set_index('time', inplace = True)"
   ]
  },
  {
   "cell_type": "markdown",
   "metadata": {},
   "source": [
    "## EDA/Visualization"
   ]
  },
  {
   "cell_type": "markdown",
   "metadata": {},
   "source": [
    "## Mean Value by Borough"
   ]
  },
  {
   "cell_type": "code",
   "execution_count": 20,
   "metadata": {},
   "outputs": [],
   "source": [
    "# font = {'family' : 'normal',\n",
    "#         'weight' : 'bold',\n",
    "#         'size'   : 15}\n",
    "\n",
    "# matplotlib.rc('font', **font)"
   ]
  },
  {
   "cell_type": "code",
   "execution_count": 21,
   "metadata": {},
   "outputs": [],
   "source": [
    "def plot_mean(x, y, xlabel, ylabel, title):\n",
    "    plt.figure(figsize=(8,6))\n",
    "    sns.barplot(x,y, palette = 'Blues_d')\n",
    "    plt.xlabel(f'{xlabel}')\n",
    "    plt.ylabel(f'{ylabel}')\n",
    "    plt.title(f'{title} in New York City')"
   ]
  },
  {
   "cell_type": "code",
   "execution_count": 22,
   "metadata": {},
   "outputs": [
    {
     "data": {
      "text/plain": [
       "Borough\n",
       "Manhattan        5.314744e+06\n",
       "Brooklyn         5.822687e+05\n",
       "Queens           4.395159e+05\n",
       "Bronx            3.668534e+05\n",
       "Staten Island    3.395848e+05\n",
       "Name: value, dtype: float64"
      ]
     },
     "execution_count": 22,
     "metadata": {},
     "output_type": "execute_result"
    }
   ],
   "source": [
    "borough = nyc.groupby('Borough').value.mean().sort_values(ascending = False)\n",
    "borough"
   ]
  },
  {
   "cell_type": "code",
   "execution_count": 23,
   "metadata": {},
   "outputs": [
    {
     "data": {
      "image/png": "[encoded data removed]",
      "text/plain": [
       "<Figure size 1440x576 with 1 Axes>"
      ]
     },
     "metadata": {
      "needs_background": "light"
     },
     "output_type": "display_data"
    }
   ],
   "source": [
    "# fix this\n",
    "fig, ax = plt.subplots(figsize=(20,8))\n",
    "sns.barplot(borough.values, borough.index, color='green')\n",
    "ax.set_title('Average Value by Borough') \n",
    "ax.set_ylabel('Borough Name')\n",
    "ax.set_xlabel('Value ($ in Millions)')\n",
    "ax.ticklabel_format(axis = 'x')"
   ]
  },
  {
   "cell_type": "markdown",
   "metadata": {},
   "source": [
    "## Highest Mean Value Zip Code"
   ]
  },
  {
   "cell_type": "code",
   "execution_count": 24,
   "metadata": {},
   "outputs": [
    {
     "data": {
      "text/plain": [
       "114"
      ]
     },
     "execution_count": 24,
     "metadata": {},
     "output_type": "execute_result"
    }
   ],
   "source": [
    "nyc['Zipcode'].nunique()"
   ]
  },
  {
   "cell_type": "markdown",
   "metadata": {},
   "source": [
    "There are 114 unique zipcodes for New York City."
   ]
  },
  {
   "cell_type": "code",
   "execution_count": 25,
   "metadata": {},
   "outputs": [
    {
     "data": {
      "text/plain": [
       "array([10467, 11226, 11375, 11235, 10128, 10462, 10463, 11230, 11209,\n",
       "       11212, 11214, 11221, 11229, 11377, 11234, 11355, 10314, 11215,\n",
       "       11211, 11385, 11373, 11233, 11236, 11372, 11218, 11223, 11208,\n",
       "       11204, 11219, 11368, 11203, 11220, 11216, 11354, 10466, 11374,\n",
       "       10473, 11210, 11434, 11224, 10306, 11691, 10469, 10312, 10461,\n",
       "       11106, 11432, 11222, 11435, 11365, 11103, 11367, 11102, 10304,\n",
       "       10301, 11357, 10305, 11105, 10465, 11364, 11358, 11104, 11228,\n",
       "       11379, 11413, 11420, 11414, 10309, 11361, 11412, 10471, 11378,\n",
       "       11421, 11419, 11433, 11360, 10308, 11415, 11418, 11423, 11369,\n",
       "       10310, 10303, 11422, 11694, 11417, 11427, 11692, 11370, 11356,\n",
       "       11429, 11362, 11411, 10470, 11426, 10302, 11428, 11004, 11416,\n",
       "       11436, 11366, 10307, 11363, 10464, 10459, 11238, 10021, 10014,\n",
       "       11205, 11217, 11231, 10011, 11101, 10456], dtype=int64)"
      ]
     },
     "execution_count": 25,
     "metadata": {},
     "output_type": "execute_result"
    }
   ],
   "source": [
    "nyc.Zipcode.unique()"
   ]
  },
  {
   "cell_type": "code",
   "execution_count": 26,
   "metadata": {},
   "outputs": [],
   "source": [
    "zipcodes = nyc.groupby('Zipcode').value.mean()"
   ]
  },
  {
   "cell_type": "code",
   "execution_count": 27,
   "metadata": {},
   "outputs": [
    {
     "data": {
      "text/plain": [
       "Zipcode\n",
       "10021    1.285427e+07\n",
       "10011    7.755844e+06\n",
       "10014    6.836902e+06\n",
       "10128    5.085436e+06\n",
       "11217    1.977407e+06\n",
       "Name: value, dtype: float64"
      ]
     },
     "execution_count": 27,
     "metadata": {},
     "output_type": "execute_result"
    }
   ],
   "source": [
    "top_zipcodes = zipcodes.sort_values(ascending = False).head()\n",
    "top_zipcodes"
   ]
  },
  {
   "cell_type": "code",
   "execution_count": 28,
   "metadata": {},
   "outputs": [
    {
     "data": {
      "image/png": "[encoded data removed]",
      "text/plain": [
       "<Figure size 432x288 with 1 Axes>"
      ]
     },
     "metadata": {
      "needs_background": "light"
     },
     "output_type": "display_data"
    }
   ],
   "source": [
    "top_zipcodes.sort_values().plot.barh(color = 'g')\n",
    "plt.title('Average Value by Zipcode')\n",
    "plt.xlabel('Value ($) in Billions')\n",
    "plt.show()"
   ]
  },
  {
   "cell_type": "code",
   "execution_count": 29,
   "metadata": {},
   "outputs": [
    {
     "data": {
      "text/plain": [
       "Borough        Zipcode\n",
       "Bronx          10456      313059.615385\n",
       "               10459      292612.921348\n",
       "               10461      338021.132075\n",
       "               10462      308724.150943\n",
       "               10463      432449.056604\n",
       "                              ...      \n",
       "Staten Island  10308      353755.094340\n",
       "               10309      398166.415094\n",
       "               10310      322537.358491\n",
       "               10312      361979.622642\n",
       "               10314      352084.528302\n",
       "Name: value, Length: 114, dtype: float64"
      ]
     },
     "execution_count": 29,
     "metadata": {},
     "output_type": "execute_result"
    }
   ],
   "source": [
    "group = nyc.groupby(['Borough', 'Zipcode']).value.mean()\n",
    "group"
   ]
  },
  {
   "cell_type": "markdown",
   "metadata": {},
   "source": [
    "### Manhattan"
   ]
  },
  {
   "cell_type": "code",
   "execution_count": 30,
   "metadata": {},
   "outputs": [
    {
     "data": {
      "image/png": "[encoded data removed]",
      "text/plain": [
       "<Figure size 432x288 with 1 Axes>"
      ]
     },
     "metadata": {
      "needs_background": "light"
     },
     "output_type": "display_data"
    },
    {
     "data": {
      "text/plain": [
       "Zipcode\n",
       "10021    1.285427e+07\n",
       "10011    7.755844e+06\n",
       "10014    6.836902e+06\n",
       "10128    5.085436e+06\n",
       "11231    1.748707e+06\n",
       "Name: value, dtype: float64"
      ]
     },
     "execution_count": 30,
     "metadata": {},
     "output_type": "execute_result"
    }
   ],
   "source": [
    "# create def function\n",
    "# make these boroughs side by side\n",
    "group['Manhattan'].sort_values().plot.barh(color = 'g')\n",
    "plt.title('Average Value of Manhattan by Zipcode')\n",
    "plt.xlabel('Value ($) in Billions')\n",
    "plt.show()\n",
    "group['Manhattan'].sort_values(ascending = False).head()"
   ]
  },
  {
   "cell_type": "markdown",
   "metadata": {},
   "source": [
    "### Brooklyn"
   ]
  },
  {
   "cell_type": "code",
   "execution_count": 31,
   "metadata": {
    "scrolled": false
   },
   "outputs": [
    {
     "data": {
      "image/png": "[encoded data removed]",
      "text/plain": [
       "<Figure size 720x720 with 1 Axes>"
      ]
     },
     "metadata": {
      "needs_background": "light"
     },
     "output_type": "display_data"
    },
    {
     "data": {
      "text/plain": [
       "Zipcode\n",
       "11217    1.977407e+06\n",
       "11205    1.557881e+06\n",
       "11238    1.520451e+06\n",
       "11215    1.074962e+06\n",
       "11230    6.449887e+05\n",
       "Name: value, dtype: float64"
      ]
     },
     "execution_count": 31,
     "metadata": {},
     "output_type": "execute_result"
    }
   ],
   "source": [
    "# fix\n",
    "fig, ax = plt.subplots(figsize=(10,10))\n",
    "group['Brooklyn'].sort_values().plot.barh(color = 'g')\n",
    "plt.title('Average Value of Brooklyn by Zipcode')\n",
    "plt.xlabel('Value ($) in Millions')\n",
    "plt.show()\n",
    "group['Brooklyn'].sort_values(ascending = False).head()"
   ]
  },
  {
   "cell_type": "markdown",
   "metadata": {},
   "source": [
    "### Queens"
   ]
  },
  {
   "cell_type": "code",
   "execution_count": 32,
   "metadata": {
    "scrolled": false
   },
   "outputs": [
    {
     "data": {
      "image/png": "[encoded data removed]",
      "text/plain": [
       "<Figure size 720x1080 with 1 Axes>"
      ]
     },
     "metadata": {
      "needs_background": "light"
     },
     "output_type": "display_data"
    },
    {
     "data": {
      "text/plain": [
       "Zipcode\n",
       "11363    735301.132075\n",
       "11694    663121.509434\n",
       "11360    656026.415094\n",
       "11101    621317.105263\n",
       "11362    615289.811321\n",
       "Name: value, dtype: float64"
      ]
     },
     "execution_count": 32,
     "metadata": {},
     "output_type": "execute_result"
    }
   ],
   "source": [
    "fig, ax = plt.subplots(figsize=(10,15))\n",
    "group['Queens'].sort_values().plot.barh(color = 'g')\n",
    "plt.title('Average Value of Queens by Zipcode')\n",
    "plt.xlabel('Value ($) in Thousands')\n",
    "plt.show()\n",
    "group['Queens'].sort_values(ascending = False).head()"
   ]
  },
  {
   "cell_type": "markdown",
   "metadata": {},
   "source": [
    "### Staten Island"
   ]
  },
  {
   "cell_type": "code",
   "execution_count": 33,
   "metadata": {
    "scrolled": true
   },
   "outputs": [
    {
     "data": {
      "image/png": "[encoded data removed]",
      "text/plain": [
       "<Figure size 720x720 with 1 Axes>"
      ]
     },
     "metadata": {
      "needs_background": "light"
     },
     "output_type": "display_data"
    },
    {
     "data": {
      "text/plain": [
       "Zipcode\n",
       "11363    735301.132075\n",
       "11694    663121.509434\n",
       "11360    656026.415094\n",
       "11101    621317.105263\n",
       "11362    615289.811321\n",
       "Name: value, dtype: float64"
      ]
     },
     "execution_count": 33,
     "metadata": {},
     "output_type": "execute_result"
    }
   ],
   "source": [
    "fig, ax = plt.subplots(figsize=(10,10))\n",
    "group['Queens'].sort_values().plot.barh(color = 'g')\n",
    "plt.title('Average Value of Staten Island by Zipcode')\n",
    "plt.xlabel('Value ($) in Thousands')\n",
    "plt.show()\n",
    "group['Queens'].sort_values(ascending = False).head()"
   ]
  },
  {
   "cell_type": "code",
   "execution_count": 34,
   "metadata": {
    "scrolled": true
   },
   "outputs": [
    {
     "data": {
      "image/png": "[encoded data removed]",
      "text/plain": [
       "<Figure size 432x288 with 1 Axes>"
      ]
     },
     "metadata": {
      "needs_background": "light"
     },
     "output_type": "display_data"
    },
    {
     "data": {
      "text/plain": [
       "Zipcode\n",
       "10471    766486.792453\n",
       "10463    432449.056604\n",
       "10464    408178.867925\n",
       "10465    340500.754717\n",
       "10461    338021.132075\n",
       "Name: value, dtype: float64"
      ]
     },
     "execution_count": 34,
     "metadata": {},
     "output_type": "execute_result"
    }
   ],
   "source": [
    "group['Bronx'].sort_values().plot.barh(color = 'g')\n",
    "plt.title('Average Value of Bronx by Zipcode')\n",
    "plt.xlabel('Value ($) in Thousands')\n",
    "plt.show()\n",
    "group['Bronx'].sort_values(ascending = False).head()"
   ]
  },
  {
   "cell_type": "markdown",
   "metadata": {},
   "source": [
    "### Trend Post Market Crisis"
   ]
  },
  {
   "cell_type": "code",
   "execution_count": 35,
   "metadata": {},
   "outputs": [
    {
     "data": {
      "text/html": [
       "<div>\n",
       "<style scoped>\n",
       "    .dataframe tbody tr th:only-of-type {\n",
       "        vertical-align: middle;\n",
       "    }\n",
       "\n",
       "    .dataframe tbody tr th {\n",
       "        vertical-align: top;\n",
       "    }\n",
       "\n",
       "    .dataframe thead th {\n",
       "        text-align: right;\n",
       "    }\n",
       "</style>\n",
       "<table border=\"1\" class=\"dataframe\">\n",
       "  <thead>\n",
       "    <tr style=\"text-align: right;\">\n",
       "      <th></th>\n",
       "      <th>value</th>\n",
       "    </tr>\n",
       "    <tr>\n",
       "      <th>time</th>\n",
       "      <th></th>\n",
       "    </tr>\n",
       "  </thead>\n",
       "  <tbody>\n",
       "    <tr>\n",
       "      <th>2009-01-01</th>\n",
       "      <td>7.724545e+05</td>\n",
       "    </tr>\n",
       "    <tr>\n",
       "      <th>2009-02-01</th>\n",
       "      <td>7.706821e+05</td>\n",
       "    </tr>\n",
       "    <tr>\n",
       "      <th>2009-03-01</th>\n",
       "      <td>7.696062e+05</td>\n",
       "    </tr>\n",
       "    <tr>\n",
       "      <th>2009-04-01</th>\n",
       "      <td>7.690875e+05</td>\n",
       "    </tr>\n",
       "    <tr>\n",
       "      <th>2009-05-01</th>\n",
       "      <td>7.669411e+05</td>\n",
       "    </tr>\n",
       "    <tr>\n",
       "      <th>...</th>\n",
       "      <td>...</td>\n",
       "    </tr>\n",
       "    <tr>\n",
       "      <th>2017-12-01</th>\n",
       "      <td>1.176734e+06</td>\n",
       "    </tr>\n",
       "    <tr>\n",
       "      <th>2018-01-01</th>\n",
       "      <td>1.182094e+06</td>\n",
       "    </tr>\n",
       "    <tr>\n",
       "      <th>2018-02-01</th>\n",
       "      <td>1.185925e+06</td>\n",
       "    </tr>\n",
       "    <tr>\n",
       "      <th>2018-03-01</th>\n",
       "      <td>1.187463e+06</td>\n",
       "    </tr>\n",
       "    <tr>\n",
       "      <th>2018-04-01</th>\n",
       "      <td>1.189456e+06</td>\n",
       "    </tr>\n",
       "  </tbody>\n",
       "</table>\n",
       "<p>112 rows × 1 columns</p>\n",
       "</div>"
      ],
      "text/plain": [
       "                   value\n",
       "time                    \n",
       "2009-01-01  7.724545e+05\n",
       "2009-02-01  7.706821e+05\n",
       "2009-03-01  7.696062e+05\n",
       "2009-04-01  7.690875e+05\n",
       "2009-05-01  7.669411e+05\n",
       "...                  ...\n",
       "2017-12-01  1.176734e+06\n",
       "2018-01-01  1.182094e+06\n",
       "2018-02-01  1.185925e+06\n",
       "2018-03-01  1.187463e+06\n",
       "2018-04-01  1.189456e+06\n",
       "\n",
       "[112 rows x 1 columns]"
      ]
     },
     "execution_count": 35,
     "metadata": {},
     "output_type": "execute_result"
    }
   ],
   "source": [
    "trend = nyc['2009':]\n",
    "trend = trend.groupby('time').aggregate({'value':'mean'})\n",
    "trend\n",
    "# change values to full number"
   ]
  },
  {
   "cell_type": "code",
   "execution_count": 36,
   "metadata": {},
   "outputs": [
    {
     "data": {
      "image/png": "[encoded data removed]",
      "text/plain": [
       "<Figure size 432x288 with 1 Axes>"
      ]
     },
     "metadata": {
      "needs_background": "light"
     },
     "output_type": "display_data"
    }
   ],
   "source": [
    "plot_trend(trend, 'Average NYC Property Trend (2009-2018)')\n",
    "# ask to change the y axis to thousands"
   ]
  },
  {
   "cell_type": "markdown",
   "metadata": {},
   "source": [
    "We see here that there is an annual linear increase starting in 2013"
   ]
  },
  {
   "cell_type": "code",
   "execution_count": 37,
   "metadata": {},
   "outputs": [
    {
     "data": {
      "text/plain": [
       "<AxesSubplot:xlabel='time'>"
      ]
     },
     "execution_count": 37,
     "metadata": {},
     "output_type": "execute_result"
    },
    {
     "data": {
      "image/png": "[encoded data removed]",
      "text/plain": [
       "<Figure size 576x432 with 1 Axes>"
      ]
     },
     "metadata": {
      "needs_background": "light"
     },
     "output_type": "display_data"
    }
   ],
   "source": [
    "trend.plot(figsize = (8,6), style = '.b')\n",
    "# plt.title(title)\n",
    "# plt.ylabel('Price ($ in Thousands)')\n",
    "# plt.grid()\n",
    "# plt.show()"
   ]
  },
  {
   "cell_type": "markdown",
   "metadata": {},
   "source": [
    "## Average ROI"
   ]
  },
  {
   "cell_type": "markdown",
   "metadata": {},
   "source": [
    "The metric we will be using will be Zillow's most citied metric the Zillow Home Value Index (ZHVI). The formula we will be using according to the ZHVI is growth over past year and forecasted growth over the next year.\n",
    "\n",
    "For example, to show how much home prices have grown for a region over the prior year and how much they are forecasted to grow in the coming year the formula is shown below:\n",
    "\n",
    "***\n",
    "$\\mathbf{\\text{Calculating historial growth over the past year}}$<br>\n",
    "***\n",
    "$$ Price Growth = 100 * ((this month current year - this month last year) / this month last year) $$\n",
    "***\n",
    "$\\mathbf{\\text{Calculating forecasted growth over the next year}}$<br>\n",
    "***\n",
    "$$ Forecasted Price Growth = 100 * ((this month next year - this month current year) / this month current year) $$"
   ]
  },
  {
   "cell_type": "code",
   "execution_count": 38,
   "metadata": {},
   "outputs": [],
   "source": [
    "nyc_8yrs = nyc_df.copy()\n",
    "nyc_8yrs.drop(columns = nyc_df.loc[:,'1996-04':'2009-12'], inplace = True)\n"
   ]
  },
  {
   "cell_type": "code",
   "execution_count": 39,
   "metadata": {},
   "outputs": [],
   "source": [
    "# change column name to avg roi\n",
    "nyc_8yrs['ROI'] = round(((nyc_8yrs['2018-04']-nyc_8yrs['2010-01'])/nyc_8yrs['2010-01']),4)"
   ]
  },
  {
   "cell_type": "code",
   "execution_count": 40,
   "metadata": {},
   "outputs": [
    {
     "data": {
      "text/plain": [
       "RegionID      0\n",
       "RegionName    0\n",
       "City          0\n",
       "State         0\n",
       "Metro         0\n",
       "             ..\n",
       "2018-01       0\n",
       "2018-02       0\n",
       "2018-03       0\n",
       "2018-04       0\n",
       "ROI           2\n",
       "Length: 108, dtype: int64"
      ]
     },
     "execution_count": 40,
     "metadata": {},
     "output_type": "execute_result"
    }
   ],
   "source": [
    "nyc_8yrs.isnull().sum()"
   ]
  },
  {
   "cell_type": "code",
   "execution_count": 41,
   "metadata": {},
   "outputs": [
    {
     "data": {
      "text/html": [
       "<div>\n",
       "<style scoped>\n",
       "    .dataframe tbody tr th:only-of-type {\n",
       "        vertical-align: middle;\n",
       "    }\n",
       "\n",
       "    .dataframe tbody tr th {\n",
       "        vertical-align: top;\n",
       "    }\n",
       "\n",
       "    .dataframe thead th {\n",
       "        text-align: right;\n",
       "    }\n",
       "</style>\n",
       "<table border=\"1\" class=\"dataframe\">\n",
       "  <thead>\n",
       "    <tr style=\"text-align: right;\">\n",
       "      <th></th>\n",
       "      <th>RegionID</th>\n",
       "      <th>RegionName</th>\n",
       "      <th>City</th>\n",
       "      <th>State</th>\n",
       "      <th>Metro</th>\n",
       "      <th>CountyName</th>\n",
       "      <th>SizeRank</th>\n",
       "      <th>2010-01</th>\n",
       "      <th>2010-02</th>\n",
       "      <th>2010-03</th>\n",
       "      <th>...</th>\n",
       "      <th>2017-08</th>\n",
       "      <th>2017-09</th>\n",
       "      <th>2017-10</th>\n",
       "      <th>2017-11</th>\n",
       "      <th>2017-12</th>\n",
       "      <th>2018-01</th>\n",
       "      <th>2018-02</th>\n",
       "      <th>2018-03</th>\n",
       "      <th>2018-04</th>\n",
       "      <th>ROI</th>\n",
       "    </tr>\n",
       "  </thead>\n",
       "  <tbody>\n",
       "    <tr>\n",
       "      <th>36</th>\n",
       "      <td>61796</td>\n",
       "      <td>10456</td>\n",
       "      <td>New York</td>\n",
       "      <td>NY</td>\n",
       "      <td>New York</td>\n",
       "      <td>Bronx</td>\n",
       "      <td>37</td>\n",
       "      <td>NaN</td>\n",
       "      <td>NaN</td>\n",
       "      <td>NaN</td>\n",
       "      <td>...</td>\n",
       "      <td>357100</td>\n",
       "      <td>356500</td>\n",
       "      <td>357200</td>\n",
       "      <td>362000</td>\n",
       "      <td>368500</td>\n",
       "      <td>374100</td>\n",
       "      <td>379800</td>\n",
       "      <td>388100</td>\n",
       "      <td>394400</td>\n",
       "      <td>NaN</td>\n",
       "    </tr>\n",
       "    <tr>\n",
       "      <th>1299</th>\n",
       "      <td>62004</td>\n",
       "      <td>11101</td>\n",
       "      <td>New York</td>\n",
       "      <td>NY</td>\n",
       "      <td>New York</td>\n",
       "      <td>Queens</td>\n",
       "      <td>1300</td>\n",
       "      <td>NaN</td>\n",
       "      <td>NaN</td>\n",
       "      <td>NaN</td>\n",
       "      <td>...</td>\n",
       "      <td>739000</td>\n",
       "      <td>708300</td>\n",
       "      <td>698500</td>\n",
       "      <td>711200</td>\n",
       "      <td>742900</td>\n",
       "      <td>767300</td>\n",
       "      <td>769700</td>\n",
       "      <td>767200</td>\n",
       "      <td>782500</td>\n",
       "      <td>NaN</td>\n",
       "    </tr>\n",
       "  </tbody>\n",
       "</table>\n",
       "<p>2 rows × 108 columns</p>\n",
       "</div>"
      ],
      "text/plain": [
       "      RegionID  RegionName      City State     Metro CountyName  SizeRank  \\\n",
       "36       61796       10456  New York    NY  New York      Bronx        37   \n",
       "1299     62004       11101  New York    NY  New York     Queens      1300   \n",
       "\n",
       "      2010-01  2010-02  2010-03  ...  2017-08  2017-09  2017-10  2017-11  \\\n",
       "36        NaN      NaN      NaN  ...   357100   356500   357200   362000   \n",
       "1299      NaN      NaN      NaN  ...   739000   708300   698500   711200   \n",
       "\n",
       "      2017-12  2018-01  2018-02  2018-03  2018-04  ROI  \n",
       "36     368500   374100   379800   388100   394400  NaN  \n",
       "1299   742900   767300   769700   767200   782500  NaN  \n",
       "\n",
       "[2 rows x 108 columns]"
      ]
     },
     "execution_count": 41,
     "metadata": {},
     "output_type": "execute_result"
    }
   ],
   "source": [
    "nyc_8yrs[nyc_8yrs['ROI'].isna()]"
   ]
  },
  {
   "cell_type": "code",
   "execution_count": 42,
   "metadata": {},
   "outputs": [],
   "source": [
    "nyc_8yrs.bfill(inplace = True)"
   ]
  },
  {
   "cell_type": "code",
   "execution_count": 43,
   "metadata": {},
   "outputs": [
    {
     "data": {
      "text/html": [
       "<div>\n",
       "<style scoped>\n",
       "    .dataframe tbody tr th:only-of-type {\n",
       "        vertical-align: middle;\n",
       "    }\n",
       "\n",
       "    .dataframe tbody tr th {\n",
       "        vertical-align: top;\n",
       "    }\n",
       "\n",
       "    .dataframe thead th {\n",
       "        text-align: right;\n",
       "    }\n",
       "</style>\n",
       "<table border=\"1\" class=\"dataframe\">\n",
       "  <thead>\n",
       "    <tr style=\"text-align: right;\">\n",
       "      <th></th>\n",
       "      <th>RegionID</th>\n",
       "      <th>RegionName</th>\n",
       "      <th>City</th>\n",
       "      <th>State</th>\n",
       "      <th>Metro</th>\n",
       "      <th>CountyName</th>\n",
       "      <th>SizeRank</th>\n",
       "      <th>2010-01</th>\n",
       "      <th>2010-02</th>\n",
       "      <th>2010-03</th>\n",
       "      <th>...</th>\n",
       "      <th>2017-08</th>\n",
       "      <th>2017-09</th>\n",
       "      <th>2017-10</th>\n",
       "      <th>2017-11</th>\n",
       "      <th>2017-12</th>\n",
       "      <th>2018-01</th>\n",
       "      <th>2018-02</th>\n",
       "      <th>2018-03</th>\n",
       "      <th>2018-04</th>\n",
       "      <th>ROI</th>\n",
       "    </tr>\n",
       "  </thead>\n",
       "  <tbody>\n",
       "  </tbody>\n",
       "</table>\n",
       "<p>0 rows × 108 columns</p>\n",
       "</div>"
      ],
      "text/plain": [
       "Empty DataFrame\n",
       "Columns: [RegionID, RegionName, City, State, Metro, CountyName, SizeRank, 2010-01, 2010-02, 2010-03, 2010-04, 2010-05, 2010-06, 2010-07, 2010-08, 2010-09, 2010-10, 2010-11, 2010-12, 2011-01, 2011-02, 2011-03, 2011-04, 2011-05, 2011-06, 2011-07, 2011-08, 2011-09, 2011-10, 2011-11, 2011-12, 2012-01, 2012-02, 2012-03, 2012-04, 2012-05, 2012-06, 2012-07, 2012-08, 2012-09, 2012-10, 2012-11, 2012-12, 2013-01, 2013-02, 2013-03, 2013-04, 2013-05, 2013-06, 2013-07, 2013-08, 2013-09, 2013-10, 2013-11, 2013-12, 2014-01, 2014-02, 2014-03, 2014-04, 2014-05, 2014-06, 2014-07, 2014-08, 2014-09, 2014-10, 2014-11, 2014-12, 2015-01, 2015-02, 2015-03, 2015-04, 2015-05, 2015-06, 2015-07, 2015-08, 2015-09, 2015-10, 2015-11, 2015-12, 2016-01, 2016-02, 2016-03, 2016-04, 2016-05, 2016-06, 2016-07, 2016-08, 2016-09, 2016-10, 2016-11, 2016-12, 2017-01, 2017-02, 2017-03, 2017-04, 2017-05, 2017-06, 2017-07, 2017-08, 2017-09, ...]\n",
       "Index: []\n",
       "\n",
       "[0 rows x 108 columns]"
      ]
     },
     "execution_count": 43,
     "metadata": {},
     "output_type": "execute_result"
    }
   ],
   "source": [
    "nyc_8yrs[nyc_8yrs['ROI'].isna()]"
   ]
  },
  {
   "cell_type": "code",
   "execution_count": 44,
   "metadata": {},
   "outputs": [
    {
     "data": {
      "text/plain": [
       "0"
      ]
     },
     "execution_count": 44,
     "metadata": {},
     "output_type": "execute_result"
    }
   ],
   "source": [
    "nyc_8yrs.isnull().sum().sum()"
   ]
  },
  {
   "cell_type": "code",
   "execution_count": 45,
   "metadata": {},
   "outputs": [],
   "source": [
    "nyc_8yrs = melt_data_roi(nyc_8yrs)\n",
    "\n",
    "nyc_8yrs.drop(columns=['RegionID','SizeRank', 'State', 'Metro'], axis = 1, inplace = True)"
   ]
  },
  {
   "cell_type": "code",
   "execution_count": 46,
   "metadata": {},
   "outputs": [],
   "source": [
    "nyc_8yrs = nyc_8yrs.rename({'RegionName':'Zipcode'}, axis = 'columns')"
   ]
  },
  {
   "cell_type": "code",
   "execution_count": 47,
   "metadata": {},
   "outputs": [
    {
     "name": "stdout",
     "output_type": "stream",
     "text": [
      "<class 'pandas.core.frame.DataFrame'>\n",
      "Int64Index: 11400 entries, 0 to 11399\n",
      "Data columns (total 6 columns):\n",
      " #   Column      Non-Null Count  Dtype         \n",
      "---  ------      --------------  -----         \n",
      " 0   Zipcode     11400 non-null  int64         \n",
      " 1   City        11400 non-null  object        \n",
      " 2   CountyName  11400 non-null  object        \n",
      " 3   ROI         11400 non-null  float64       \n",
      " 4   time        11400 non-null  datetime64[ns]\n",
      " 5   value       11400 non-null  float64       \n",
      "dtypes: datetime64[ns](1), float64(2), int64(1), object(2)\n",
      "memory usage: 623.4+ KB\n"
     ]
    }
   ],
   "source": [
    "nyc_8yrs.info()"
   ]
  },
  {
   "cell_type": "code",
   "execution_count": 48,
   "metadata": {},
   "outputs": [
    {
     "data": {
      "text/plain": [
       "Zipcode\n",
       "10011    0.6916\n",
       "10014    0.4905\n",
       "10021    0.5214\n",
       "10128    0.2344\n",
       "10301    0.3218\n",
       "          ...  \n",
       "11435    0.3365\n",
       "11436    0.3073\n",
       "11691    0.1842\n",
       "11692    0.1823\n",
       "11694    0.1033\n",
       "Name: ROI, Length: 114, dtype: float64"
      ]
     },
     "execution_count": 48,
     "metadata": {},
     "output_type": "execute_result"
    }
   ],
   "source": [
    "group_roi = nyc_8yrs.groupby(['Zipcode']).ROI.mean()\n",
    "group_roi"
   ]
  },
  {
   "cell_type": "code",
   "execution_count": 49,
   "metadata": {},
   "outputs": [
    {
     "data": {
      "text/plain": [
       "Zipcode\n",
       "11216    2.2613\n",
       "11222    1.8284\n",
       "11211    1.6376\n",
       "11221    1.5559\n",
       "11238    1.4123\n",
       "          ...  \n",
       "11412    0.2025\n",
       "11691    0.1842\n",
       "11692    0.1823\n",
       "10464    0.1363\n",
       "11694    0.1033\n",
       "Name: ROI, Length: 114, dtype: float64"
      ]
     },
     "execution_count": 49,
     "metadata": {},
     "output_type": "execute_result"
    }
   ],
   "source": [
    "group_roi.sort_values(ascending = False)"
   ]
  },
  {
   "cell_type": "code",
   "execution_count": 50,
   "metadata": {},
   "outputs": [
    {
     "data": {
      "text/plain": [
       "Zipcode\n",
       "11216    2.2613\n",
       "11222    1.8284\n",
       "11211    1.6376\n",
       "11221    1.5559\n",
       "11238    1.4123\n",
       "Name: ROI, dtype: float64"
      ]
     },
     "execution_count": 50,
     "metadata": {},
     "output_type": "execute_result"
    }
   ],
   "source": [
    "top5_roi = group_roi.sort_values(ascending = False).head()\n",
    "top5_roi"
   ]
  },
  {
   "cell_type": "code",
   "execution_count": 51,
   "metadata": {},
   "outputs": [
    {
     "data": {
      "image/png": "[encoded data removed]",
      "text/plain": [
       "<Figure size 1296x864 with 1 Axes>"
      ]
     },
     "metadata": {
      "needs_background": "light"
     },
     "output_type": "display_data"
    }
   ],
   "source": [
    "fig,ax=plt.subplots(figsize=(18,12))\n",
    "top5_roi.sort_values().plot.barh(color = 'g')\n",
    "plt.title('ROI by Zipcode')\n",
    "plt.xlabel('Value ($) in Billions')\n",
    "plt.show()"
   ]
  },
  {
   "cell_type": "code",
   "execution_count": 52,
   "metadata": {},
   "outputs": [
    {
     "data": {
      "text/plain": [
       "Zipcode\n",
       "11216    2.2613\n",
       "11222    1.8284\n",
       "11211    1.6376\n",
       "11221    1.5559\n",
       "11238    1.4123\n",
       "11217    1.3671\n",
       "11231    1.3495\n",
       "11233    1.3173\n",
       "11106    1.1228\n",
       "11102    1.0331\n",
       "Name: ROI, dtype: float64"
      ]
     },
     "execution_count": 52,
     "metadata": {},
     "output_type": "execute_result"
    }
   ],
   "source": [
    "top10_roi = group_roi.sort_values(ascending = False).head(10)\n",
    "top10_roi"
   ]
  },
  {
   "cell_type": "code",
   "execution_count": 63,
   "metadata": {},
   "outputs": [
    {
     "data": {
      "image/png": "[encoded data removed]",
      "text/plain": [
       "<Figure size 1296x864 with 1 Axes>"
      ]
     },
     "metadata": {
      "needs_background": "light"
     },
     "output_type": "display_data"
    }
   ],
   "source": [
    "fig,ax=plt.subplots(figsize=(18,12))\n",
    "top10_roi.sort_values().plot.barh(color = 'g', fontsize=30)\n",
    "plt.title('ROI by Zipcode', fontsize=30)\n",
    "plt.xlabel('Value ($) in Billions', fontsize=30)\n",
    "plt.ylabel('Price', fontsize=30)\n",
    "\n",
    "plt.show()"
   ]
  },
  {
   "cell_type": "code",
   "execution_count": null,
   "metadata": {},
   "outputs": [],
   "source": []
  }
 ],
 "metadata": {
  "kernelspec": {
   "display_name": "Python (learn-env)",
   "language": "python",
   "name": "learn-env"
  },
  "language_info": {
   "codemirror_mode": {
    "name": "ipython",
    "version": 3
   },
   "file_extension": ".py",
   "mimetype": "text/x-python",
   "name": "python",
   "nbconvert_exporter": "python",
   "pygments_lexer": "ipython3",
   "version": "3.8.5"
  },
  "toc": {
   "base_numbering": 1,
   "nav_menu": {},
   "number_sections": true,
   "sideBar": true,
   "skip_h1_title": false,
   "title_cell": "Table of Contents",
   "title_sidebar": "Contents",
   "toc_cell": false,
   "toc_position": {
    "height": "calc(100% - 180px)",
    "left": "10px",
    "top": "150px",
    "width": "335.797px"
   },
   "toc_section_display": true,
   "toc_window_display": true
  }
 },
 "nbformat": 4,
 "nbformat_minor": 2
}
